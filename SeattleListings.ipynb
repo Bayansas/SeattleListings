{
 "cells": [
  {
   "cell_type": "markdown",
   "id": "e475b57d",
   "metadata": {},
   "source": [
    "\"Write a Data Science Blog Post\" Project\n",
    "\n",
    "In this project, i used Seattle AirBNB data, in which it includes information of the listings offered in Seattle, WA.\n",
    "\n",
    "after exploring the data, I got curious about the following questions:\n",
    "    - How many listings are in each neighbourhood? \n",
    "    - Which hosts are running a business with multiple listings and where they? \n",
    "    - Average of prices for each neighborhood?\n",
    "    - and building a model for Price Predections for listings"
   ]
  },
  {
   "cell_type": "markdown",
   "id": "ec7a2818",
   "metadata": {},
   "source": [
    "1- Data Understanding and importing required libraries"
   ]
  },
  {
   "cell_type": "code",
   "execution_count": 48,
   "id": "467a08b8",
   "metadata": {},
   "outputs": [
    {
     "data": {
      "text/html": [
       "<div>\n",
       "<style scoped>\n",
       "    .dataframe tbody tr th:only-of-type {\n",
       "        vertical-align: middle;\n",
       "    }\n",
       "\n",
       "    .dataframe tbody tr th {\n",
       "        vertical-align: top;\n",
       "    }\n",
       "\n",
       "    .dataframe thead th {\n",
       "        text-align: right;\n",
       "    }\n",
       "</style>\n",
       "<table border=\"1\" class=\"dataframe\">\n",
       "  <thead>\n",
       "    <tr style=\"text-align: right;\">\n",
       "      <th></th>\n",
       "      <th>id</th>\n",
       "      <th>listing_url</th>\n",
       "      <th>scrape_id</th>\n",
       "      <th>last_scraped</th>\n",
       "      <th>name</th>\n",
       "      <th>summary</th>\n",
       "      <th>space</th>\n",
       "      <th>description</th>\n",
       "      <th>experiences_offered</th>\n",
       "      <th>neighborhood_overview</th>\n",
       "      <th>...</th>\n",
       "      <th>review_scores_value</th>\n",
       "      <th>requires_license</th>\n",
       "      <th>license</th>\n",
       "      <th>jurisdiction_names</th>\n",
       "      <th>instant_bookable</th>\n",
       "      <th>cancellation_policy</th>\n",
       "      <th>require_guest_profile_picture</th>\n",
       "      <th>require_guest_phone_verification</th>\n",
       "      <th>calculated_host_listings_count</th>\n",
       "      <th>reviews_per_month</th>\n",
       "    </tr>\n",
       "  </thead>\n",
       "  <tbody>\n",
       "    <tr>\n",
       "      <th>0</th>\n",
       "      <td>241032</td>\n",
       "      <td>https://www.airbnb.com/rooms/241032</td>\n",
       "      <td>2.020000e+13</td>\n",
       "      <td>1/4/2016</td>\n",
       "      <td>Stylish Queen Anne Apartment</td>\n",
       "      <td>NaN</td>\n",
       "      <td>Make your self at home in this charming one-be...</td>\n",
       "      <td>Make your self at home in this charming one-be...</td>\n",
       "      <td>none</td>\n",
       "      <td>NaN</td>\n",
       "      <td>...</td>\n",
       "      <td>10.0</td>\n",
       "      <td>f</td>\n",
       "      <td>NaN</td>\n",
       "      <td>WASHINGTON</td>\n",
       "      <td>f</td>\n",
       "      <td>moderate</td>\n",
       "      <td>f</td>\n",
       "      <td>f</td>\n",
       "      <td>2</td>\n",
       "      <td>4.07</td>\n",
       "    </tr>\n",
       "    <tr>\n",
       "      <th>1</th>\n",
       "      <td>953595</td>\n",
       "      <td>https://www.airbnb.com/rooms/953595</td>\n",
       "      <td>2.020000e+13</td>\n",
       "      <td>1/4/2016</td>\n",
       "      <td>Bright &amp; Airy Queen Anne Apartment</td>\n",
       "      <td>Chemically sensitive? We've removed the irrita...</td>\n",
       "      <td>Beautiful, hypoallergenic apartment in an extr...</td>\n",
       "      <td>Chemically sensitive? We've removed the irrita...</td>\n",
       "      <td>none</td>\n",
       "      <td>Queen Anne is a wonderful, truly functional vi...</td>\n",
       "      <td>...</td>\n",
       "      <td>10.0</td>\n",
       "      <td>f</td>\n",
       "      <td>NaN</td>\n",
       "      <td>WASHINGTON</td>\n",
       "      <td>f</td>\n",
       "      <td>strict</td>\n",
       "      <td>t</td>\n",
       "      <td>t</td>\n",
       "      <td>6</td>\n",
       "      <td>1.48</td>\n",
       "    </tr>\n",
       "    <tr>\n",
       "      <th>2</th>\n",
       "      <td>3308979</td>\n",
       "      <td>https://www.airbnb.com/rooms/3308979</td>\n",
       "      <td>2.020000e+13</td>\n",
       "      <td>1/4/2016</td>\n",
       "      <td>New Modern House-Amazing water view</td>\n",
       "      <td>New modern house built in 2013.  Spectacular s...</td>\n",
       "      <td>Our house is modern, light and fresh with a wa...</td>\n",
       "      <td>New modern house built in 2013.  Spectacular s...</td>\n",
       "      <td>none</td>\n",
       "      <td>Upper Queen Anne is a charming neighborhood fu...</td>\n",
       "      <td>...</td>\n",
       "      <td>10.0</td>\n",
       "      <td>f</td>\n",
       "      <td>NaN</td>\n",
       "      <td>WASHINGTON</td>\n",
       "      <td>f</td>\n",
       "      <td>strict</td>\n",
       "      <td>f</td>\n",
       "      <td>f</td>\n",
       "      <td>2</td>\n",
       "      <td>1.15</td>\n",
       "    </tr>\n",
       "    <tr>\n",
       "      <th>3</th>\n",
       "      <td>7421966</td>\n",
       "      <td>https://www.airbnb.com/rooms/7421966</td>\n",
       "      <td>2.020000e+13</td>\n",
       "      <td>1/4/2016</td>\n",
       "      <td>Queen Anne Chateau</td>\n",
       "      <td>A charming apartment that sits atop Queen Anne...</td>\n",
       "      <td>NaN</td>\n",
       "      <td>A charming apartment that sits atop Queen Anne...</td>\n",
       "      <td>none</td>\n",
       "      <td>NaN</td>\n",
       "      <td>...</td>\n",
       "      <td>NaN</td>\n",
       "      <td>f</td>\n",
       "      <td>NaN</td>\n",
       "      <td>WASHINGTON</td>\n",
       "      <td>f</td>\n",
       "      <td>flexible</td>\n",
       "      <td>f</td>\n",
       "      <td>f</td>\n",
       "      <td>1</td>\n",
       "      <td>NaN</td>\n",
       "    </tr>\n",
       "    <tr>\n",
       "      <th>4</th>\n",
       "      <td>278830</td>\n",
       "      <td>https://www.airbnb.com/rooms/278830</td>\n",
       "      <td>2.020000e+13</td>\n",
       "      <td>1/4/2016</td>\n",
       "      <td>Charming craftsman 3 bdm house</td>\n",
       "      <td>Cozy family craftman house in beautiful neighb...</td>\n",
       "      <td>Cozy family craftman house in beautiful neighb...</td>\n",
       "      <td>Cozy family craftman house in beautiful neighb...</td>\n",
       "      <td>none</td>\n",
       "      <td>We are in the beautiful neighborhood of Queen ...</td>\n",
       "      <td>...</td>\n",
       "      <td>9.0</td>\n",
       "      <td>f</td>\n",
       "      <td>NaN</td>\n",
       "      <td>WASHINGTON</td>\n",
       "      <td>f</td>\n",
       "      <td>strict</td>\n",
       "      <td>f</td>\n",
       "      <td>f</td>\n",
       "      <td>1</td>\n",
       "      <td>0.89</td>\n",
       "    </tr>\n",
       "  </tbody>\n",
       "</table>\n",
       "<p>5 rows × 92 columns</p>\n",
       "</div>"
      ],
      "text/plain": [
       "        id                           listing_url     scrape_id last_scraped  \\\n",
       "0   241032   https://www.airbnb.com/rooms/241032  2.020000e+13     1/4/2016   \n",
       "1   953595   https://www.airbnb.com/rooms/953595  2.020000e+13     1/4/2016   \n",
       "2  3308979  https://www.airbnb.com/rooms/3308979  2.020000e+13     1/4/2016   \n",
       "3  7421966  https://www.airbnb.com/rooms/7421966  2.020000e+13     1/4/2016   \n",
       "4   278830   https://www.airbnb.com/rooms/278830  2.020000e+13     1/4/2016   \n",
       "\n",
       "                                  name  \\\n",
       "0         Stylish Queen Anne Apartment   \n",
       "1   Bright & Airy Queen Anne Apartment   \n",
       "2  New Modern House-Amazing water view   \n",
       "3                   Queen Anne Chateau   \n",
       "4       Charming craftsman 3 bdm house   \n",
       "\n",
       "                                             summary  \\\n",
       "0                                                NaN   \n",
       "1  Chemically sensitive? We've removed the irrita...   \n",
       "2  New modern house built in 2013.  Spectacular s...   \n",
       "3  A charming apartment that sits atop Queen Anne...   \n",
       "4  Cozy family craftman house in beautiful neighb...   \n",
       "\n",
       "                                               space  \\\n",
       "0  Make your self at home in this charming one-be...   \n",
       "1  Beautiful, hypoallergenic apartment in an extr...   \n",
       "2  Our house is modern, light and fresh with a wa...   \n",
       "3                                                NaN   \n",
       "4  Cozy family craftman house in beautiful neighb...   \n",
       "\n",
       "                                         description experiences_offered  \\\n",
       "0  Make your self at home in this charming one-be...                none   \n",
       "1  Chemically sensitive? We've removed the irrita...                none   \n",
       "2  New modern house built in 2013.  Spectacular s...                none   \n",
       "3  A charming apartment that sits atop Queen Anne...                none   \n",
       "4  Cozy family craftman house in beautiful neighb...                none   \n",
       "\n",
       "                               neighborhood_overview  ... review_scores_value  \\\n",
       "0                                                NaN  ...                10.0   \n",
       "1  Queen Anne is a wonderful, truly functional vi...  ...                10.0   \n",
       "2  Upper Queen Anne is a charming neighborhood fu...  ...                10.0   \n",
       "3                                                NaN  ...                 NaN   \n",
       "4  We are in the beautiful neighborhood of Queen ...  ...                 9.0   \n",
       "\n",
       "  requires_license license jurisdiction_names instant_bookable  \\\n",
       "0                f     NaN         WASHINGTON                f   \n",
       "1                f     NaN         WASHINGTON                f   \n",
       "2                f     NaN         WASHINGTON                f   \n",
       "3                f     NaN         WASHINGTON                f   \n",
       "4                f     NaN         WASHINGTON                f   \n",
       "\n",
       "  cancellation_policy  require_guest_profile_picture  \\\n",
       "0            moderate                              f   \n",
       "1              strict                              t   \n",
       "2              strict                              f   \n",
       "3            flexible                              f   \n",
       "4              strict                              f   \n",
       "\n",
       "  require_guest_phone_verification calculated_host_listings_count  \\\n",
       "0                                f                              2   \n",
       "1                                t                              6   \n",
       "2                                f                              2   \n",
       "3                                f                              1   \n",
       "4                                f                              1   \n",
       "\n",
       "  reviews_per_month  \n",
       "0              4.07  \n",
       "1              1.48  \n",
       "2              1.15  \n",
       "3               NaN  \n",
       "4              0.89  \n",
       "\n",
       "[5 rows x 92 columns]"
      ]
     },
     "execution_count": 48,
     "metadata": {},
     "output_type": "execute_result"
    }
   ],
   "source": [
    "import numpy as np\n",
    "import pandas as pd\n",
    "import matplotlib.pyplot as plt\n",
    "import seaborn as sns\n",
    "from statistics import mean\n",
    "from sklearn.model_selection import train_test_split\n",
    "from sklearn.linear_model import LinearRegression\n",
    "\n",
    "df = pd.read_csv('./listings.csv')\n",
    "df.head()"
   ]
  },
  {
   "cell_type": "code",
   "execution_count": 49,
   "id": "917d324b",
   "metadata": {},
   "outputs": [
    {
     "name": "stdout",
     "output_type": "stream",
     "text": [
      "There are 3818 rows in the dataset, and 92 columns\n"
     ]
    }
   ],
   "source": [
    "num_rows = df.shape[0] #Provide the number of rows in the dataset\n",
    "num_cols = df.shape[1] #Provide the number of columns in the dataset\n",
    "\n",
    "print(\"There are\", num_rows,\"rows in the dataset, and\", num_cols, \"columns\")"
   ]
  },
  {
   "cell_type": "code",
   "execution_count": 50,
   "id": "676e0d05",
   "metadata": {},
   "outputs": [
    {
     "name": "stdout",
     "output_type": "stream",
     "text": [
      "<class 'pandas.core.frame.DataFrame'>\n",
      "RangeIndex: 3818 entries, 0 to 3817\n",
      "Data columns (total 92 columns):\n",
      " #   Column                            Non-Null Count  Dtype  \n",
      "---  ------                            --------------  -----  \n",
      " 0   id                                3818 non-null   int64  \n",
      " 1   listing_url                       3818 non-null   object \n",
      " 2   scrape_id                         3818 non-null   float64\n",
      " 3   last_scraped                      3818 non-null   object \n",
      " 4   name                              3818 non-null   object \n",
      " 5   summary                           3641 non-null   object \n",
      " 6   space                             3249 non-null   object \n",
      " 7   description                       3818 non-null   object \n",
      " 8   experiences_offered               3818 non-null   object \n",
      " 9   neighborhood_overview             2786 non-null   object \n",
      " 10  notes                             2212 non-null   object \n",
      " 11  transit                           2884 non-null   object \n",
      " 12  thumbnail_url                     3498 non-null   object \n",
      " 13  medium_url                        3498 non-null   object \n",
      " 14  picture_url                       3818 non-null   object \n",
      " 15  xl_picture_url                    3498 non-null   object \n",
      " 16  host_id                           3818 non-null   int64  \n",
      " 17  host_url                          3818 non-null   object \n",
      " 18  host_name                         3816 non-null   object \n",
      " 19  host_since                        3816 non-null   object \n",
      " 20  host_location                     3810 non-null   object \n",
      " 21  host_about                        2959 non-null   object \n",
      " 22  host_response_time                3295 non-null   object \n",
      " 23  host_response_rate                3295 non-null   object \n",
      " 24  host_acceptance_rate              3045 non-null   object \n",
      " 25  host_is_superhost                 3816 non-null   object \n",
      " 26  host_thumbnail_url                3816 non-null   object \n",
      " 27  host_picture_url                  3816 non-null   object \n",
      " 28  host_neighbourhood                3518 non-null   object \n",
      " 29  host_listings_count               3816 non-null   float64\n",
      " 30  host_total_listings_count         3816 non-null   float64\n",
      " 31  host_verifications                3818 non-null   object \n",
      " 32  host_has_profile_pic              3816 non-null   object \n",
      " 33  host_identity_verified            3816 non-null   object \n",
      " 34  street                            3818 non-null   object \n",
      " 35  neighbourhood                     3402 non-null   object \n",
      " 36  neighbourhood_cleansed            3818 non-null   object \n",
      " 37  neighbourhood_group_cleansed      3818 non-null   object \n",
      " 38  city                              3818 non-null   object \n",
      " 39  state                             3818 non-null   object \n",
      " 40  zipcode                           3811 non-null   object \n",
      " 41  market                            3818 non-null   object \n",
      " 42  smart_location                    3818 non-null   object \n",
      " 43  country_code                      3818 non-null   object \n",
      " 44  country                           3818 non-null   object \n",
      " 45  latitude                          3818 non-null   float64\n",
      " 46  longitude                         3818 non-null   float64\n",
      " 47  is_location_exact                 3818 non-null   object \n",
      " 48  property_type                     3817 non-null   object \n",
      " 49  room_type                         3818 non-null   object \n",
      " 50  accommodates                      3818 non-null   int64  \n",
      " 51  bathrooms                         3802 non-null   float64\n",
      " 52  bedrooms                          3812 non-null   float64\n",
      " 53  beds                              3817 non-null   float64\n",
      " 54  bed_type                          3818 non-null   object \n",
      " 55  amenities                         3818 non-null   object \n",
      " 56  square_feet                       97 non-null     float64\n",
      " 57  price                             3818 non-null   int64  \n",
      " 58  weekly_price                      2009 non-null   object \n",
      " 59  monthly_price                     1517 non-null   float64\n",
      " 60  security_deposit                  1866 non-null   object \n",
      " 61  cleaning_fee                      2788 non-null   float64\n",
      " 62  guests_included                   3818 non-null   int64  \n",
      " 63  extra_people                      3818 non-null   int64  \n",
      " 64  minimum_nights                    3818 non-null   int64  \n",
      " 65  maximum_nights                    3818 non-null   int64  \n",
      " 66  calendar_updated                  3818 non-null   object \n",
      " 67  has_availability                  3818 non-null   object \n",
      " 68  availability_30                   3818 non-null   int64  \n",
      " 69  availability_60                   3818 non-null   int64  \n",
      " 70  availability_90                   3818 non-null   int64  \n",
      " 71  availability_365                  3818 non-null   int64  \n",
      " 72  calendar_last_scraped             3818 non-null   object \n",
      " 73  number_of_reviews                 3818 non-null   int64  \n",
      " 74  first_review                      3191 non-null   object \n",
      " 75  last_review                       3191 non-null   object \n",
      " 76  review_scores_rating              3171 non-null   float64\n",
      " 77  review_scores_accuracy            3160 non-null   float64\n",
      " 78  review_scores_cleanliness         3165 non-null   float64\n",
      " 79  review_scores_checkin             3160 non-null   float64\n",
      " 80  review_scores_communication       3167 non-null   float64\n",
      " 81  review_scores_location            3163 non-null   float64\n",
      " 82  review_scores_value               3162 non-null   float64\n",
      " 83  requires_license                  3818 non-null   object \n",
      " 84  license                           0 non-null      float64\n",
      " 85  jurisdiction_names                3818 non-null   object \n",
      " 86  instant_bookable                  3818 non-null   object \n",
      " 87  cancellation_policy               3818 non-null   object \n",
      " 88  require_guest_profile_picture     3818 non-null   object \n",
      " 89  require_guest_phone_verification  3818 non-null   object \n",
      " 90  calculated_host_listings_count    3818 non-null   int64  \n",
      " 91  reviews_per_month                 3191 non-null   float64\n",
      "dtypes: float64(20), int64(14), object(58)\n",
      "memory usage: 2.7+ MB\n"
     ]
    }
   ],
   "source": [
    "# Checking data types\n",
    "df.info()"
   ]
  },
  {
   "cell_type": "code",
   "execution_count": 51,
   "id": "df0733c4",
   "metadata": {},
   "outputs": [
    {
     "name": "stdout",
     "output_type": "stream",
     "text": [
      "{'license', 'monthly_price', 'square_feet', 'security_deposit'}\n"
     ]
    }
   ],
   "source": [
    "#Provide a set of columns with more than 50% of the values missing\n",
    "\n",
    "most_missing_cols = set(df.columns[df.isnull().mean() > 0.5])\n",
    "\n",
    "print(most_missing_cols)\n",
    "# If needed, i will deal with these columns, otherwise i would ignore them"
   ]
  },
  {
   "cell_type": "markdown",
   "id": "21dc77fb",
   "metadata": {},
   "source": [
    "2- Data Preparation; includes answering the questions, and filling null values\n",
    "\n"
   ]
  },
  {
   "cell_type": "code",
   "execution_count": 52,
   "id": "1e941f38",
   "metadata": {},
   "outputs": [
    {
     "name": "stdout",
     "output_type": "stream",
     "text": [
      "                     neighbourhood_group_cleansed\n",
      "Other neighborhoods                           794\n",
      "Capitol Hill                                  567\n",
      "Downtown                                      530\n",
      "Central Area                                  369\n",
      "Queen Anne                                    295\n",
      "Ballard                                       230\n",
      "West Seattle                                  203\n",
      "Rainier Valley                                159\n",
      "University District                           122\n",
      "Beacon Hill                                   118\n",
      "Cascade                                        89\n",
      "Northgate                                      80\n",
      "Delridge                                       79\n",
      "Lake City                                      67\n",
      "Magnolia                                       61\n",
      "Seward Park                                    44\n",
      "Interbay                                       11\n"
     ]
    }
   ],
   "source": [
    "# Answering the first question:How many listings are in each neighbourhood?\n",
    "\n",
    "Count_of_Listings= pd.DataFrame(df['neighbourhood_group_cleansed'].value_counts())\n",
    "\n",
    "\n",
    "print(Count_of_Listings)"
   ]
  },
  {
   "cell_type": "code",
   "execution_count": 53,
   "id": "fbc9b127",
   "metadata": {},
   "outputs": [
    {
     "data": {
      "text/plain": [
       "<seaborn.axisgrid.FacetGrid at 0x2811efe5160>"
      ]
     },
     "execution_count": 53,
     "metadata": {},
     "output_type": "execute_result"
    },
    {
     "data": {
      "image/png": "[encoded data removed]",
      "text/plain": [
       "<Figure size 360x360 with 1 Axes>"
      ]
     },
     "metadata": {
      "needs_background": "light"
     },
     "output_type": "display_data"
    }
   ],
   "source": [
    "#Visualizing result\n",
    "sns.displot(y='neighbourhood_group_cleansed', bins=5, data=df)"
   ]
  },
  {
   "cell_type": "code",
   "execution_count": 54,
   "id": "e17b435c",
   "metadata": {},
   "outputs": [
    {
     "data": {
      "text/html": [
       "<div>\n",
       "<style scoped>\n",
       "    .dataframe tbody tr th:only-of-type {\n",
       "        vertical-align: middle;\n",
       "    }\n",
       "\n",
       "    .dataframe tbody tr th {\n",
       "        vertical-align: top;\n",
       "    }\n",
       "\n",
       "    .dataframe thead th {\n",
       "        text-align: right;\n",
       "    }\n",
       "</style>\n",
       "<table border=\"1\" class=\"dataframe\">\n",
       "  <thead>\n",
       "    <tr style=\"text-align: right;\">\n",
       "      <th></th>\n",
       "      <th>host_id</th>\n",
       "      <th>host_name</th>\n",
       "      <th>neighbourhood_group_cleansed</th>\n",
       "      <th>host_location</th>\n",
       "    </tr>\n",
       "  </thead>\n",
       "  <tbody>\n",
       "    <tr>\n",
       "      <th>0</th>\n",
       "      <td>956883</td>\n",
       "      <td>Maija</td>\n",
       "      <td>Queen Anne</td>\n",
       "      <td>Seattle, Washington, United States</td>\n",
       "    </tr>\n",
       "    <tr>\n",
       "      <th>1</th>\n",
       "      <td>5177328</td>\n",
       "      <td>Andrea</td>\n",
       "      <td>Queen Anne</td>\n",
       "      <td>Seattle, Washington, United States</td>\n",
       "    </tr>\n",
       "    <tr>\n",
       "      <th>2</th>\n",
       "      <td>16708587</td>\n",
       "      <td>Jill</td>\n",
       "      <td>Queen Anne</td>\n",
       "      <td>Seattle, Washington, United States</td>\n",
       "    </tr>\n",
       "    <tr>\n",
       "      <th>4</th>\n",
       "      <td>1452570</td>\n",
       "      <td>Emily</td>\n",
       "      <td>Queen Anne</td>\n",
       "      <td>Seattle, Washington, United States</td>\n",
       "    </tr>\n",
       "    <tr>\n",
       "      <th>7</th>\n",
       "      <td>4016632</td>\n",
       "      <td>Jean-Marc</td>\n",
       "      <td>Queen Anne</td>\n",
       "      <td>Seattle, Washington, United States</td>\n",
       "    </tr>\n",
       "    <tr>\n",
       "      <th>...</th>\n",
       "      <td>...</td>\n",
       "      <td>...</td>\n",
       "      <td>...</td>\n",
       "      <td>...</td>\n",
       "    </tr>\n",
       "    <tr>\n",
       "      <th>3803</th>\n",
       "      <td>5325329</td>\n",
       "      <td>Blair</td>\n",
       "      <td>Other neighborhoods</td>\n",
       "      <td>Seattle, Washington, United States</td>\n",
       "    </tr>\n",
       "    <tr>\n",
       "      <th>3806</th>\n",
       "      <td>6963318</td>\n",
       "      <td>Grace</td>\n",
       "      <td>Other neighborhoods</td>\n",
       "      <td>Seattle, Washington, United States</td>\n",
       "    </tr>\n",
       "    <tr>\n",
       "      <th>3808</th>\n",
       "      <td>7964921</td>\n",
       "      <td>Charlie &amp; Sarah</td>\n",
       "      <td>Other neighborhoods</td>\n",
       "      <td>Seattle, Washington, United States</td>\n",
       "    </tr>\n",
       "    <tr>\n",
       "      <th>3812</th>\n",
       "      <td>3443346</td>\n",
       "      <td>Jacqueline</td>\n",
       "      <td>Other neighborhoods</td>\n",
       "      <td>Seattle, Washington, United States</td>\n",
       "    </tr>\n",
       "    <tr>\n",
       "      <th>3813</th>\n",
       "      <td>31148752</td>\n",
       "      <td>Bo</td>\n",
       "      <td>Other neighborhoods</td>\n",
       "      <td>US</td>\n",
       "    </tr>\n",
       "  </tbody>\n",
       "</table>\n",
       "<p>1637 rows × 4 columns</p>\n",
       "</div>"
      ],
      "text/plain": [
       "       host_id        host_name neighbourhood_group_cleansed  \\\n",
       "0       956883            Maija                   Queen Anne   \n",
       "1      5177328           Andrea                   Queen Anne   \n",
       "2     16708587             Jill                   Queen Anne   \n",
       "4      1452570            Emily                   Queen Anne   \n",
       "7      4016632        Jean-Marc                   Queen Anne   \n",
       "...        ...              ...                          ...   \n",
       "3803   5325329            Blair          Other neighborhoods   \n",
       "3806   6963318            Grace          Other neighborhoods   \n",
       "3808   7964921  Charlie & Sarah          Other neighborhoods   \n",
       "3812   3443346       Jacqueline          Other neighborhoods   \n",
       "3813  31148752               Bo          Other neighborhoods   \n",
       "\n",
       "                           host_location  \n",
       "0     Seattle, Washington, United States  \n",
       "1     Seattle, Washington, United States  \n",
       "2     Seattle, Washington, United States  \n",
       "4     Seattle, Washington, United States  \n",
       "7     Seattle, Washington, United States  \n",
       "...                                  ...  \n",
       "3803  Seattle, Washington, United States  \n",
       "3806  Seattle, Washington, United States  \n",
       "3808  Seattle, Washington, United States  \n",
       "3812  Seattle, Washington, United States  \n",
       "3813                                  US  \n",
       "\n",
       "[1637 rows x 4 columns]"
      ]
     },
     "metadata": {},
     "output_type": "display_data"
    }
   ],
   "source": [
    "#Which hosts are running a business with multiple listings and where they? \n",
    "\n",
    "Hosts=df.query(\"host_total_listings_count > 1\")\n",
    "Hosts_Multiple_Listings= pd.DataFrame(Hosts[['host_id','host_name','neighbourhood_group_cleansed','host_location']])\n",
    "display(Hosts_Multiple_Listings)"
   ]
  },
  {
   "cell_type": "code",
   "execution_count": 55,
   "id": "7d3ce455",
   "metadata": {},
   "outputs": [
    {
     "data": {
      "text/plain": [
       "neighbourhood_group_cleansed\n",
       "Delridge                83.278481\n",
       "Northgate               88.550000\n",
       "Rainier Valley          91.899371\n",
       "Lake City               92.671642\n",
       "University District     93.639344\n",
       "Beacon Hill             94.669492\n",
       "Seward Park            108.477273\n",
       "Interbay               109.727273\n",
       "Other neighborhoods    119.968514\n",
       "Ballard                124.682609\n",
       "Central Area           128.338753\n",
       "Capitol Hill           130.592593\n",
       "Cascade                140.101124\n",
       "West Seattle           141.359606\n",
       "Downtown               154.405660\n",
       "Queen Anne             157.223729\n",
       "Magnolia               177.672131\n",
       "Name: price, dtype: float64"
      ]
     },
     "metadata": {},
     "output_type": "display_data"
    }
   ],
   "source": [
    "# Average of prices for each neighbourhood\n",
    "# the data type for the 'price' column is int as shown above \n",
    "Avg_prices_neighbourhood= df.groupby('neighbourhood_group_cleansed')['price'].agg(mean).sort_values()\n",
    "display(Avg_prices_neighbourhood)"
   ]
  },
  {
   "cell_type": "markdown",
   "id": "8476acdc",
   "metadata": {},
   "source": [
    "Price Predection; building a model to predect listings prices based on the services provided \n"
   ]
  },
  {
   "cell_type": "code",
   "execution_count": 56,
   "id": "0488ce77",
   "metadata": {},
   "outputs": [
    {
     "name": "stdout",
     "output_type": "stream",
     "text": [
      "<class 'pandas.core.frame.DataFrame'>\n",
      "RangeIndex: 3818 entries, 0 to 3817\n",
      "Data columns (total 7 columns):\n",
      " #   Column               Non-Null Count  Dtype  \n",
      "---  ------               --------------  -----  \n",
      " 0   accommodates         3818 non-null   int64  \n",
      " 1   bathrooms            3802 non-null   float64\n",
      " 2   bedrooms             3812 non-null   float64\n",
      " 3   guests_included      3818 non-null   int64  \n",
      " 4   extra_people         3818 non-null   int64  \n",
      " 5   review_scores_value  3162 non-null   float64\n",
      " 6   price                3818 non-null   int64  \n",
      "dtypes: float64(3), int64(4)\n",
      "memory usage: 208.9 KB\n"
     ]
    }
   ],
   "source": [
    "#First, creating a dataset that incudes all the needed columns, then checking columns datatypes and if they include null values\n",
    "\n",
    "df_listings=df[['accommodates','bathrooms','bedrooms', 'guests_included', 'extra_people','review_scores_value','price']]\n",
    "df_listings.info()"
   ]
  },
  {
   "cell_type": "code",
   "execution_count": 57,
   "id": "027d8515",
   "metadata": {},
   "outputs": [
    {
     "data": {
      "text/plain": [
       "accommodates             0\n",
       "bathrooms               16\n",
       "bedrooms                 6\n",
       "guests_included          0\n",
       "extra_people             0\n",
       "review_scores_value    656\n",
       "price                    0\n",
       "dtype: int64"
      ]
     },
     "execution_count": 57,
     "metadata": {},
     "output_type": "execute_result"
    }
   ],
   "source": [
    "df_listings.isnull().sum()"
   ]
  },
  {
   "cell_type": "code",
   "execution_count": 58,
   "id": "ea205f56",
   "metadata": {},
   "outputs": [
    {
     "name": "stderr",
     "output_type": "stream",
     "text": [
      "C:\\Users\\bayan\\anaconda3\\lib\\site-packages\\pandas\\core\\series.py:4463: SettingWithCopyWarning: \n",
      "A value is trying to be set on a copy of a slice from a DataFrame\n",
      "\n",
      "See the caveats in the documentation: https://pandas.pydata.org/pandas-docs/stable/user_guide/indexing.html#returning-a-view-versus-a-copy\n",
      "  return super().fillna(\n"
     ]
    }
   ],
   "source": [
    "#Removing null values\n",
    "df_listings['bathrooms'].fillna(0, inplace=True)\n",
    "df_listings['bedrooms'].fillna(0, inplace=True)\n",
    "df_listings['review_scores_value'].fillna(0, inplace=True)"
   ]
  },
  {
   "cell_type": "code",
   "execution_count": 59,
   "id": "f2e063d7",
   "metadata": {},
   "outputs": [
    {
     "name": "stdout",
     "output_type": "stream",
     "text": [
      "<class 'pandas.core.frame.DataFrame'>\n",
      "RangeIndex: 3818 entries, 0 to 3817\n",
      "Data columns (total 7 columns):\n",
      " #   Column               Non-Null Count  Dtype  \n",
      "---  ------               --------------  -----  \n",
      " 0   accommodates         3818 non-null   int64  \n",
      " 1   bathrooms            3818 non-null   float64\n",
      " 2   bedrooms             3818 non-null   float64\n",
      " 3   guests_included      3818 non-null   int64  \n",
      " 4   extra_people         3818 non-null   int64  \n",
      " 5   review_scores_value  3818 non-null   float64\n",
      " 6   price                3818 non-null   int64  \n",
      "dtypes: float64(3), int64(4)\n",
      "memory usage: 208.9 KB\n"
     ]
    }
   ],
   "source": [
    "#check the info again\n",
    "\n",
    "df_listings.info()"
   ]
  },
  {
   "cell_type": "code",
   "execution_count": 60,
   "id": "e9f04581",
   "metadata": {},
   "outputs": [
    {
     "data": {
      "text/plain": [
       "<AxesSubplot:>"
      ]
     },
     "execution_count": 60,
     "metadata": {},
     "output_type": "execute_result"
    },
    {
     "data": {
      "image/png": "[encoded data removed]",
      "text/plain": [
       "<Figure size 432x288 with 2 Axes>"
      ]
     },
     "metadata": {
      "needs_background": "light"
     },
     "output_type": "display_data"
    }
   ],
   "source": [
    "#Creating a heatmap to visualize correlation between the selected features\n",
    "sns.heatmap(df_listings.corr(), annot=True)"
   ]
  },
  {
   "cell_type": "code",
   "execution_count": 61,
   "id": "da7ddb20",
   "metadata": {},
   "outputs": [],
   "source": [
    "#from df_listings, will create two datasets and we will be execluding 'extra_people' and 'review_scores_value' features from our model since they have low correlation with our target 'price'\n",
    "\n",
    "X= df_listings[['accommodates','bathrooms','bedrooms','guests_included']]\n",
    "\n",
    "Y= df_listings['price']"
   ]
  },
  {
   "cell_type": "code",
   "execution_count": 62,
   "id": "d21a16e0",
   "metadata": {},
   "outputs": [
    {
     "name": "stdout",
     "output_type": "stream",
     "text": [
      "(2672, 4)\n",
      "(1146, 4)\n",
      "(2672,)\n",
      "(1146,)\n"
     ]
    }
   ],
   "source": [
    "#splitting the dataset into train and test\n",
    "X_train, X_test, Y_train, Y_test = train_test_split(X, Y, test_size=0.3, random_state=40)\n",
    "print(X_train.shape)\n",
    "print(X_test.shape)\n",
    "print(Y_train.shape)\n",
    "print(Y_test.shape)"
   ]
  },
  {
   "cell_type": "code",
   "execution_count": 63,
   "id": "81c691f0",
   "metadata": {},
   "outputs": [],
   "source": [
    "lm= LinearRegression()"
   ]
  },
  {
   "cell_type": "code",
   "execution_count": 64,
   "id": "0e3598f7",
   "metadata": {},
   "outputs": [
    {
     "data": {
      "text/plain": [
       "LinearRegression()"
      ]
     },
     "execution_count": 64,
     "metadata": {},
     "output_type": "execute_result"
    }
   ],
   "source": [
    "lm.fit(X_train, Y_train)"
   ]
  },
  {
   "cell_type": "code",
   "execution_count": 65,
   "id": "c79fa970",
   "metadata": {},
   "outputs": [],
   "source": [
    "predictions = lm.predict(X_test)"
   ]
  },
  {
   "cell_type": "code",
   "execution_count": 66,
   "id": "569191bc",
   "metadata": {},
   "outputs": [
    {
     "data": {
      "text/html": [
       "<div>\n",
       "<style scoped>\n",
       "    .dataframe tbody tr th:only-of-type {\n",
       "        vertical-align: middle;\n",
       "    }\n",
       "\n",
       "    .dataframe tbody tr th {\n",
       "        vertical-align: top;\n",
       "    }\n",
       "\n",
       "    .dataframe thead th {\n",
       "        text-align: right;\n",
       "    }\n",
       "</style>\n",
       "<table border=\"1\" class=\"dataframe\">\n",
       "  <thead>\n",
       "    <tr style=\"text-align: right;\">\n",
       "      <th></th>\n",
       "      <th>Actual</th>\n",
       "      <th>Predicted</th>\n",
       "      <th>Difference</th>\n",
       "    </tr>\n",
       "  </thead>\n",
       "  <tbody>\n",
       "    <tr>\n",
       "      <th>3399</th>\n",
       "      <td>349</td>\n",
       "      <td>323.578984</td>\n",
       "      <td>25.421016</td>\n",
       "    </tr>\n",
       "    <tr>\n",
       "      <th>398</th>\n",
       "      <td>55</td>\n",
       "      <td>108.585009</td>\n",
       "      <td>53.585009</td>\n",
       "    </tr>\n",
       "    <tr>\n",
       "      <th>1774</th>\n",
       "      <td>100</td>\n",
       "      <td>91.011176</td>\n",
       "      <td>8.988824</td>\n",
       "    </tr>\n",
       "    <tr>\n",
       "      <th>2205</th>\n",
       "      <td>35</td>\n",
       "      <td>91.011176</td>\n",
       "      <td>56.011176</td>\n",
       "    </tr>\n",
       "    <tr>\n",
       "      <th>1185</th>\n",
       "      <td>120</td>\n",
       "      <td>127.358598</td>\n",
       "      <td>7.358598</td>\n",
       "    </tr>\n",
       "    <tr>\n",
       "      <th>1401</th>\n",
       "      <td>115</td>\n",
       "      <td>109.784765</td>\n",
       "      <td>5.215235</td>\n",
       "    </tr>\n",
       "    <tr>\n",
       "      <th>2127</th>\n",
       "      <td>135</td>\n",
       "      <td>150.460275</td>\n",
       "      <td>15.460275</td>\n",
       "    </tr>\n",
       "    <tr>\n",
       "      <th>3592</th>\n",
       "      <td>165</td>\n",
       "      <td>211.109130</td>\n",
       "      <td>46.109130</td>\n",
       "    </tr>\n",
       "    <tr>\n",
       "      <th>2456</th>\n",
       "      <td>86</td>\n",
       "      <td>109.784765</td>\n",
       "      <td>23.784765</td>\n",
       "    </tr>\n",
       "    <tr>\n",
       "      <th>1226</th>\n",
       "      <td>175</td>\n",
       "      <td>108.585009</td>\n",
       "      <td>66.414991</td>\n",
       "    </tr>\n",
       "  </tbody>\n",
       "</table>\n",
       "</div>"
      ],
      "text/plain": [
       "      Actual   Predicted  Difference\n",
       "3399     349  323.578984   25.421016\n",
       "398       55  108.585009   53.585009\n",
       "1774     100   91.011176    8.988824\n",
       "2205      35   91.011176   56.011176\n",
       "1185     120  127.358598    7.358598\n",
       "1401     115  109.784765    5.215235\n",
       "2127     135  150.460275   15.460275\n",
       "3592     165  211.109130   46.109130\n",
       "2456      86  109.784765   23.784765\n",
       "1226     175  108.585009   66.414991"
      ]
     },
     "execution_count": 66,
     "metadata": {},
     "output_type": "execute_result"
    }
   ],
   "source": [
    "price_predictions= pd.DataFrame({'Actual':Y_test,'Predicted':predictions})\n",
    "price_predictions['Difference']=np.abs(price_predictions.Actual-price_predictions.Predicted)\n",
    "price_predictions.head(10)"
   ]
  },
  {
   "cell_type": "code",
   "execution_count": 70,
   "id": "8f308fd2",
   "metadata": {},
   "outputs": [
    {
     "data": {
      "image/png": "[encoded data removed]",
      "text/plain": [
       "<Figure size 432x288 with 1 Axes>"
      ]
     },
     "metadata": {
      "needs_background": "light"
     },
     "output_type": "display_data"
    }
   ],
   "source": [
    "#plotting predictions and actual prices to validate the model\n",
    "\n",
    "\n",
    "plt.scatter(Y_test,predictions)\n",
    "p1 = max(max(predictions), max(Y_test))\n",
    "p2 = min(min(predictions), min(Y_test))\n",
    "plt.plot([p1, p2], [p1, p2], 'b-')\n",
    "plt.xlabel('True Values', fontsize=15)\n",
    "plt.ylabel('Predictions', fontsize=15)\n",
    "plt.show()\n"
   ]
  },
  {
   "cell_type": "code",
   "execution_count": 41,
   "id": "931407bf",
   "metadata": {},
   "outputs": [
    {
     "data": {
      "text/html": [
       "<div>\n",
       "<style scoped>\n",
       "    .dataframe tbody tr th:only-of-type {\n",
       "        vertical-align: middle;\n",
       "    }\n",
       "\n",
       "    .dataframe tbody tr th {\n",
       "        vertical-align: top;\n",
       "    }\n",
       "\n",
       "    .dataframe thead th {\n",
       "        text-align: right;\n",
       "    }\n",
       "</style>\n",
       "<table border=\"1\" class=\"dataframe\">\n",
       "  <thead>\n",
       "    <tr style=\"text-align: right;\">\n",
       "      <th></th>\n",
       "      <th>Coefficient</th>\n",
       "    </tr>\n",
       "  </thead>\n",
       "  <tbody>\n",
       "    <tr>\n",
       "      <th>accommodates</th>\n",
       "      <td>17.573833</td>\n",
       "    </tr>\n",
       "    <tr>\n",
       "      <th>bathrooms</th>\n",
       "      <td>20.728400</td>\n",
       "    </tr>\n",
       "    <tr>\n",
       "      <th>bedrooms</th>\n",
       "      <td>23.101677</td>\n",
       "    </tr>\n",
       "    <tr>\n",
       "      <th>guests_included</th>\n",
       "      <td>1.199756</td>\n",
       "    </tr>\n",
       "  </tbody>\n",
       "</table>\n",
       "</div>"
      ],
      "text/plain": [
       "                 Coefficient\n",
       "accommodates       17.573833\n",
       "bathrooms          20.728400\n",
       "bedrooms           23.101677\n",
       "guests_included     1.199756"
      ]
     },
     "execution_count": 41,
     "metadata": {},
     "output_type": "execute_result"
    }
   ],
   "source": [
    "#Showing coefficient for the variables to determine feature importance \n",
    "coeff_df= pd.DataFrame(lm.coef_,X.columns,columns=['Coefficient'])\n",
    "coeff_df"
   ]
  },
  {
   "cell_type": "code",
   "execution_count": null,
   "id": "f961db31",
   "metadata": {},
   "outputs": [],
   "source": []
  }
 ],
 "metadata": {
  "kernelspec": {
   "display_name": "Python 3",
   "language": "python",
   "name": "python3"
  },
  "language_info": {
   "codemirror_mode": {
    "name": "ipython",
    "version": 3
   },
   "file_extension": ".py",
   "mimetype": "text/x-python",
   "name": "python",
   "nbconvert_exporter": "python",
   "pygments_lexer": "ipython3",
   "version": "3.8.8"
  }
 },
 "nbformat": 4,
 "nbformat_minor": 5
}
