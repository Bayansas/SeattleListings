{
 "cells": [
  {
   "cell_type": "markdown",
   "id": "e475b57d",
   "metadata": {},
   "source": [
    "# \"Write a Data Science Blog Post\" Project\n",
    "\n",
    "## Section 1: Business Understanding\n",
    "\n",
    "In this project, i used Seattle AirBNB data, in which it includes information of the listings offered in Seattle, WA.\n",
    "after exploring the data, I got curious about the following questions:\n",
    "\n",
    "\n",
    "<B>1. How many listings are in each neighbourhood? </B>\n",
    "  \n",
    "<B>2. Which hosts are running a business with multiple listings and where are they based? </B>\n",
    "\n",
    "\n",
    "<B>3. Average of prices for each neighborhood?</B>\n",
    "\n",
    "\n",
    "<B>4. and building a model for Price Predections for listings</B>"
   ]
  },
  {
   "cell_type": "code",
   "execution_count": 1,
   "id": "467a08b8",
   "metadata": {},
   "outputs": [],
   "source": [
    "import numpy as np\n",
    "import pandas as pd\n",
    "import matplotlib.pyplot as plt\n",
    "import seaborn as sns\n",
    "from statistics import mean\n",
    "from sklearn.metrics import r2_score, mean_squared_error\n",
    "from sklearn.model_selection import train_test_split\n",
    "from sklearn.linear_model import LinearRegression\n",
    "\n"
   ]
  },
  {
   "cell_type": "markdown",
   "id": "b6e3c8a2",
   "metadata": {},
   "source": [
    "## Section 2: Data Understanding\n",
    "\n",
    "Gather and explore data"
   ]
  },
  {
   "cell_type": "code",
   "execution_count": 2,
   "id": "b6bbe418",
   "metadata": {},
   "outputs": [
    {
     "data": {
      "text/html": [
       "<div>\n",
       "<style scoped>\n",
       "    .dataframe tbody tr th:only-of-type {\n",
       "        vertical-align: middle;\n",
       "    }\n",
       "\n",
       "    .dataframe tbody tr th {\n",
       "        vertical-align: top;\n",
       "    }\n",
       "\n",
       "    .dataframe thead th {\n",
       "        text-align: right;\n",
       "    }\n",
       "</style>\n",
       "<table border=\"1\" class=\"dataframe\">\n",
       "  <thead>\n",
       "    <tr style=\"text-align: right;\">\n",
       "      <th></th>\n",
       "      <th>id</th>\n",
       "      <th>listing_url</th>\n",
       "      <th>scrape_id</th>\n",
       "      <th>last_scraped</th>\n",
       "      <th>name</th>\n",
       "      <th>summary</th>\n",
       "      <th>space</th>\n",
       "      <th>description</th>\n",
       "      <th>experiences_offered</th>\n",
       "      <th>neighborhood_overview</th>\n",
       "      <th>...</th>\n",
       "      <th>review_scores_value</th>\n",
       "      <th>requires_license</th>\n",
       "      <th>license</th>\n",
       "      <th>jurisdiction_names</th>\n",
       "      <th>instant_bookable</th>\n",
       "      <th>cancellation_policy</th>\n",
       "      <th>require_guest_profile_picture</th>\n",
       "      <th>require_guest_phone_verification</th>\n",
       "      <th>calculated_host_listings_count</th>\n",
       "      <th>reviews_per_month</th>\n",
       "    </tr>\n",
       "  </thead>\n",
       "  <tbody>\n",
       "    <tr>\n",
       "      <th>0</th>\n",
       "      <td>241032</td>\n",
       "      <td>https://www.airbnb.com/rooms/241032</td>\n",
       "      <td>2.020000e+13</td>\n",
       "      <td>1/4/2016</td>\n",
       "      <td>Stylish Queen Anne Apartment</td>\n",
       "      <td>NaN</td>\n",
       "      <td>Make your self at home in this charming one-be...</td>\n",
       "      <td>Make your self at home in this charming one-be...</td>\n",
       "      <td>none</td>\n",
       "      <td>NaN</td>\n",
       "      <td>...</td>\n",
       "      <td>10.0</td>\n",
       "      <td>f</td>\n",
       "      <td>NaN</td>\n",
       "      <td>WASHINGTON</td>\n",
       "      <td>f</td>\n",
       "      <td>moderate</td>\n",
       "      <td>f</td>\n",
       "      <td>f</td>\n",
       "      <td>2</td>\n",
       "      <td>4.07</td>\n",
       "    </tr>\n",
       "    <tr>\n",
       "      <th>1</th>\n",
       "      <td>953595</td>\n",
       "      <td>https://www.airbnb.com/rooms/953595</td>\n",
       "      <td>2.020000e+13</td>\n",
       "      <td>1/4/2016</td>\n",
       "      <td>Bright &amp; Airy Queen Anne Apartment</td>\n",
       "      <td>Chemically sensitive? We've removed the irrita...</td>\n",
       "      <td>Beautiful, hypoallergenic apartment in an extr...</td>\n",
       "      <td>Chemically sensitive? We've removed the irrita...</td>\n",
       "      <td>none</td>\n",
       "      <td>Queen Anne is a wonderful, truly functional vi...</td>\n",
       "      <td>...</td>\n",
       "      <td>10.0</td>\n",
       "      <td>f</td>\n",
       "      <td>NaN</td>\n",
       "      <td>WASHINGTON</td>\n",
       "      <td>f</td>\n",
       "      <td>strict</td>\n",
       "      <td>t</td>\n",
       "      <td>t</td>\n",
       "      <td>6</td>\n",
       "      <td>1.48</td>\n",
       "    </tr>\n",
       "    <tr>\n",
       "      <th>2</th>\n",
       "      <td>3308979</td>\n",
       "      <td>https://www.airbnb.com/rooms/3308979</td>\n",
       "      <td>2.020000e+13</td>\n",
       "      <td>1/4/2016</td>\n",
       "      <td>New Modern House-Amazing water view</td>\n",
       "      <td>New modern house built in 2013.  Spectacular s...</td>\n",
       "      <td>Our house is modern, light and fresh with a wa...</td>\n",
       "      <td>New modern house built in 2013.  Spectacular s...</td>\n",
       "      <td>none</td>\n",
       "      <td>Upper Queen Anne is a charming neighborhood fu...</td>\n",
       "      <td>...</td>\n",
       "      <td>10.0</td>\n",
       "      <td>f</td>\n",
       "      <td>NaN</td>\n",
       "      <td>WASHINGTON</td>\n",
       "      <td>f</td>\n",
       "      <td>strict</td>\n",
       "      <td>f</td>\n",
       "      <td>f</td>\n",
       "      <td>2</td>\n",
       "      <td>1.15</td>\n",
       "    </tr>\n",
       "    <tr>\n",
       "      <th>3</th>\n",
       "      <td>7421966</td>\n",
       "      <td>https://www.airbnb.com/rooms/7421966</td>\n",
       "      <td>2.020000e+13</td>\n",
       "      <td>1/4/2016</td>\n",
       "      <td>Queen Anne Chateau</td>\n",
       "      <td>A charming apartment that sits atop Queen Anne...</td>\n",
       "      <td>NaN</td>\n",
       "      <td>A charming apartment that sits atop Queen Anne...</td>\n",
       "      <td>none</td>\n",
       "      <td>NaN</td>\n",
       "      <td>...</td>\n",
       "      <td>NaN</td>\n",
       "      <td>f</td>\n",
       "      <td>NaN</td>\n",
       "      <td>WASHINGTON</td>\n",
       "      <td>f</td>\n",
       "      <td>flexible</td>\n",
       "      <td>f</td>\n",
       "      <td>f</td>\n",
       "      <td>1</td>\n",
       "      <td>NaN</td>\n",
       "    </tr>\n",
       "    <tr>\n",
       "      <th>4</th>\n",
       "      <td>278830</td>\n",
       "      <td>https://www.airbnb.com/rooms/278830</td>\n",
       "      <td>2.020000e+13</td>\n",
       "      <td>1/4/2016</td>\n",
       "      <td>Charming craftsman 3 bdm house</td>\n",
       "      <td>Cozy family craftman house in beautiful neighb...</td>\n",
       "      <td>Cozy family craftman house in beautiful neighb...</td>\n",
       "      <td>Cozy family craftman house in beautiful neighb...</td>\n",
       "      <td>none</td>\n",
       "      <td>We are in the beautiful neighborhood of Queen ...</td>\n",
       "      <td>...</td>\n",
       "      <td>9.0</td>\n",
       "      <td>f</td>\n",
       "      <td>NaN</td>\n",
       "      <td>WASHINGTON</td>\n",
       "      <td>f</td>\n",
       "      <td>strict</td>\n",
       "      <td>f</td>\n",
       "      <td>f</td>\n",
       "      <td>1</td>\n",
       "      <td>0.89</td>\n",
       "    </tr>\n",
       "  </tbody>\n",
       "</table>\n",
       "<p>5 rows × 92 columns</p>\n",
       "</div>"
      ],
      "text/plain": [
       "        id                           listing_url     scrape_id last_scraped  \\\n",
       "0   241032   https://www.airbnb.com/rooms/241032  2.020000e+13     1/4/2016   \n",
       "1   953595   https://www.airbnb.com/rooms/953595  2.020000e+13     1/4/2016   \n",
       "2  3308979  https://www.airbnb.com/rooms/3308979  2.020000e+13     1/4/2016   \n",
       "3  7421966  https://www.airbnb.com/rooms/7421966  2.020000e+13     1/4/2016   \n",
       "4   278830   https://www.airbnb.com/rooms/278830  2.020000e+13     1/4/2016   \n",
       "\n",
       "                                  name  \\\n",
       "0         Stylish Queen Anne Apartment   \n",
       "1   Bright & Airy Queen Anne Apartment   \n",
       "2  New Modern House-Amazing water view   \n",
       "3                   Queen Anne Chateau   \n",
       "4       Charming craftsman 3 bdm house   \n",
       "\n",
       "                                             summary  \\\n",
       "0                                                NaN   \n",
       "1  Chemically sensitive? We've removed the irrita...   \n",
       "2  New modern house built in 2013.  Spectacular s...   \n",
       "3  A charming apartment that sits atop Queen Anne...   \n",
       "4  Cozy family craftman house in beautiful neighb...   \n",
       "\n",
       "                                               space  \\\n",
       "0  Make your self at home in this charming one-be...   \n",
       "1  Beautiful, hypoallergenic apartment in an extr...   \n",
       "2  Our house is modern, light and fresh with a wa...   \n",
       "3                                                NaN   \n",
       "4  Cozy family craftman house in beautiful neighb...   \n",
       "\n",
       "                                         description experiences_offered  \\\n",
       "0  Make your self at home in this charming one-be...                none   \n",
       "1  Chemically sensitive? We've removed the irrita...                none   \n",
       "2  New modern house built in 2013.  Spectacular s...                none   \n",
       "3  A charming apartment that sits atop Queen Anne...                none   \n",
       "4  Cozy family craftman house in beautiful neighb...                none   \n",
       "\n",
       "                               neighborhood_overview  ... review_scores_value  \\\n",
       "0                                                NaN  ...                10.0   \n",
       "1  Queen Anne is a wonderful, truly functional vi...  ...                10.0   \n",
       "2  Upper Queen Anne is a charming neighborhood fu...  ...                10.0   \n",
       "3                                                NaN  ...                 NaN   \n",
       "4  We are in the beautiful neighborhood of Queen ...  ...                 9.0   \n",
       "\n",
       "  requires_license license jurisdiction_names instant_bookable  \\\n",
       "0                f     NaN         WASHINGTON                f   \n",
       "1                f     NaN         WASHINGTON                f   \n",
       "2                f     NaN         WASHINGTON                f   \n",
       "3                f     NaN         WASHINGTON                f   \n",
       "4                f     NaN         WASHINGTON                f   \n",
       "\n",
       "  cancellation_policy  require_guest_profile_picture  \\\n",
       "0            moderate                              f   \n",
       "1              strict                              t   \n",
       "2              strict                              f   \n",
       "3            flexible                              f   \n",
       "4              strict                              f   \n",
       "\n",
       "  require_guest_phone_verification calculated_host_listings_count  \\\n",
       "0                                f                              2   \n",
       "1                                t                              6   \n",
       "2                                f                              2   \n",
       "3                                f                              1   \n",
       "4                                f                              1   \n",
       "\n",
       "  reviews_per_month  \n",
       "0              4.07  \n",
       "1              1.48  \n",
       "2              1.15  \n",
       "3               NaN  \n",
       "4              0.89  \n",
       "\n",
       "[5 rows x 92 columns]"
      ]
     },
     "execution_count": 2,
     "metadata": {},
     "output_type": "execute_result"
    }
   ],
   "source": [
    "df = pd.read_csv('./listings.csv')\n",
    "df.head()"
   ]
  },
  {
   "cell_type": "code",
   "execution_count": 3,
   "id": "917d324b",
   "metadata": {},
   "outputs": [
    {
     "name": "stdout",
     "output_type": "stream",
     "text": [
      "There are 3806 rows in the dataset, and 92 columns\n"
     ]
    }
   ],
   "source": [
    "num_rows = df.shape[0] #Provide the number of rows in the dataset\n",
    "num_cols = df.shape[1] #Provide the number of columns in the dataset\n",
    "\n",
    "print(\"There are\", num_rows,\"rows in the dataset, and\", num_cols, \"columns\")"
   ]
  },
  {
   "cell_type": "code",
   "execution_count": 4,
   "id": "676e0d05",
   "metadata": {},
   "outputs": [
    {
     "name": "stdout",
     "output_type": "stream",
     "text": [
      "<class 'pandas.core.frame.DataFrame'>\n",
      "RangeIndex: 3806 entries, 0 to 3805\n",
      "Data columns (total 92 columns):\n",
      " #   Column                            Non-Null Count  Dtype  \n",
      "---  ------                            --------------  -----  \n",
      " 0   id                                3806 non-null   int64  \n",
      " 1   listing_url                       3806 non-null   object \n",
      " 2   scrape_id                         3806 non-null   float64\n",
      " 3   last_scraped                      3806 non-null   object \n",
      " 4   name                              3806 non-null   object \n",
      " 5   summary                           3629 non-null   object \n",
      " 6   space                             3239 non-null   object \n",
      " 7   description                       3806 non-null   object \n",
      " 8   experiences_offered               3806 non-null   object \n",
      " 9   neighborhood_overview             2776 non-null   object \n",
      " 10  notes                             2212 non-null   object \n",
      " 11  transit                           2884 non-null   object \n",
      " 12  thumbnail_url                     3488 non-null   object \n",
      " 13  medium_url                        3488 non-null   object \n",
      " 14  picture_url                       3806 non-null   object \n",
      " 15  xl_picture_url                    3488 non-null   object \n",
      " 16  host_id                           3806 non-null   int64  \n",
      " 17  host_url                          3806 non-null   object \n",
      " 18  host_name                         3804 non-null   object \n",
      " 19  host_since                        3804 non-null   object \n",
      " 20  host_location                     3798 non-null   object \n",
      " 21  host_about                        2959 non-null   object \n",
      " 22  host_response_time                3283 non-null   object \n",
      " 23  host_response_rate                3283 non-null   object \n",
      " 24  host_acceptance_rate              3033 non-null   object \n",
      " 25  host_is_superhost                 3804 non-null   object \n",
      " 26  host_thumbnail_url                3804 non-null   object \n",
      " 27  host_picture_url                  3804 non-null   object \n",
      " 28  host_neighbourhood                3506 non-null   object \n",
      " 29  host_listings_count               3804 non-null   float64\n",
      " 30  host_total_listings_count         3804 non-null   float64\n",
      " 31  host_verifications                3806 non-null   object \n",
      " 32  host_has_profile_pic              3804 non-null   object \n",
      " 33  host_identity_verified            3804 non-null   object \n",
      " 34  street                            3806 non-null   object \n",
      " 35  neighbourhood                     3392 non-null   object \n",
      " 36  neighbourhood_cleansed            3806 non-null   object \n",
      " 37  neighbourhood_group_cleansed      3806 non-null   object \n",
      " 38  city                              3806 non-null   object \n",
      " 39  state                             3806 non-null   object \n",
      " 40  zipcode                           3799 non-null   object \n",
      " 41  market                            3806 non-null   object \n",
      " 42  smart_location                    3806 non-null   object \n",
      " 43  country_code                      3806 non-null   object \n",
      " 44  country                           3806 non-null   object \n",
      " 45  latitude                          3806 non-null   float64\n",
      " 46  longitude                         3806 non-null   float64\n",
      " 47  is_location_exact                 3806 non-null   object \n",
      " 48  property_type                     3805 non-null   object \n",
      " 49  room_type                         3806 non-null   object \n",
      " 50  accommodates                      3806 non-null   int64  \n",
      " 51  bathrooms                         3790 non-null   float64\n",
      " 52  bedrooms                          3800 non-null   float64\n",
      " 53  beds                              3805 non-null   float64\n",
      " 54  bed_type                          3806 non-null   object \n",
      " 55  amenities                         3806 non-null   object \n",
      " 56  square_feet                       97 non-null     float64\n",
      " 57  price                             3806 non-null   int64  \n",
      " 58  weekly_price                      2008 non-null   object \n",
      " 59  monthly_price                     1515 non-null   float64\n",
      " 60  security_deposit                  1866 non-null   object \n",
      " 61  cleaning_fee                      2778 non-null   float64\n",
      " 62  guests_included                   3806 non-null   int64  \n",
      " 63  extra_people                      3806 non-null   int64  \n",
      " 64  minimum_nights                    3806 non-null   int64  \n",
      " 65  maximum_nights                    3806 non-null   int64  \n",
      " 66  calendar_updated                  3806 non-null   object \n",
      " 67  has_availability                  3806 non-null   object \n",
      " 68  availability_30                   3806 non-null   int64  \n",
      " 69  availability_60                   3806 non-null   int64  \n",
      " 70  availability_90                   3806 non-null   int64  \n",
      " 71  availability_365                  3806 non-null   int64  \n",
      " 72  calendar_last_scraped             3806 non-null   object \n",
      " 73  number_of_reviews                 3806 non-null   int64  \n",
      " 74  first_review                      3186 non-null   object \n",
      " 75  last_review                       3186 non-null   object \n",
      " 76  review_scores_rating              3167 non-null   float64\n",
      " 77  review_scores_accuracy            3156 non-null   float64\n",
      " 78  review_scores_cleanliness         3161 non-null   float64\n",
      " 79  review_scores_checkin             3156 non-null   float64\n",
      " 80  review_scores_communication       3163 non-null   float64\n",
      " 81  review_scores_location            3159 non-null   float64\n",
      " 82  review_scores_value               3158 non-null   float64\n",
      " 83  requires_license                  3806 non-null   object \n",
      " 84  license                           0 non-null      float64\n",
      " 85  jurisdiction_names                3806 non-null   object \n",
      " 86  instant_bookable                  3806 non-null   object \n",
      " 87  cancellation_policy               3806 non-null   object \n",
      " 88  require_guest_profile_picture     3806 non-null   object \n",
      " 89  require_guest_phone_verification  3806 non-null   object \n",
      " 90  calculated_host_listings_count    3806 non-null   int64  \n",
      " 91  reviews_per_month                 3186 non-null   float64\n",
      "dtypes: float64(20), int64(14), object(58)\n",
      "memory usage: 2.7+ MB\n"
     ]
    }
   ],
   "source": [
    "# Checking data types\n",
    "df.info()"
   ]
  },
  {
   "cell_type": "code",
   "execution_count": 5,
   "id": "df0733c4",
   "metadata": {},
   "outputs": [
    {
     "name": "stdout",
     "output_type": "stream",
     "text": [
      "{'security_deposit', 'license', 'square_feet', 'monthly_price'}\n"
     ]
    }
   ],
   "source": [
    "#Provide a set of columns with more than 50% of the values missing\n",
    "\n",
    "most_missing_cols = set(df.columns[df.isnull().mean() > 0.5])\n",
    "\n",
    "print(most_missing_cols)\n",
    "# If needed, i will deal with these columns, otherwise i will ignore them"
   ]
  },
  {
   "cell_type": "markdown",
   "id": "1c478be2",
   "metadata": {},
   "source": [
    "## Section 3: Data Preparation"
   ]
  },
  {
   "cell_type": "markdown",
   "id": "8476acdc",
   "metadata": {},
   "source": [
    "<h4>As my aim is to build a model to predict the prices, in the below section, I will prepare the data for that model<h4/>"
   ]
  },
  {
   "cell_type": "code",
   "execution_count": 6,
   "id": "0488ce77",
   "metadata": {},
   "outputs": [],
   "source": [
    "#First, creating a dataframe that incudes all the selected features; i have selected some of quantitative fields that considered as listing features\n",
    "\n",
    "df_listings=df[['accommodates','bathrooms','bedrooms','cleaning_fee', 'guests_included', 'extra_people','review_scores_value','price']]"
   ]
  },
  {
   "cell_type": "code",
   "execution_count": 7,
   "id": "0749a149",
   "metadata": {},
   "outputs": [
    {
     "data": {
      "text/plain": [
       "<AxesSubplot:>"
      ]
     },
     "execution_count": 7,
     "metadata": {},
     "output_type": "execute_result"
    },
    {
     "data": {
      "image/png": "[encoded data removed]",
      "text/plain": [
       "<Figure size 432x288 with 2 Axes>"
      ]
     },
     "metadata": {
      "needs_background": "light"
     },
     "output_type": "display_data"
    }
   ],
   "source": [
    "#Creating a heatmap to see correlation between the selected features and the target variable\n",
    "sns.heatmap(df_listings.corr(), annot=True)"
   ]
  },
  {
   "cell_type": "markdown",
   "id": "c7b15337",
   "metadata": {},
   "source": [
    "We can see from the heatmap the features with high and low correlations with our target, i will be execluding the features with low correlation."
   ]
  },
  {
   "cell_type": "code",
   "execution_count": 8,
   "id": "7a848f95",
   "metadata": {},
   "outputs": [],
   "source": [
    "#Reassigning the df_listings dataframe\n",
    "df_listings=df[['accommodates','bathrooms','bedrooms','cleaning_fee', 'guests_included', 'price']]"
   ]
  },
  {
   "cell_type": "code",
   "execution_count": 9,
   "id": "027d8515",
   "metadata": {},
   "outputs": [
    {
     "data": {
      "text/plain": [
       "accommodates          0\n",
       "bathrooms            16\n",
       "bedrooms              6\n",
       "cleaning_fee       1028\n",
       "guests_included       0\n",
       "price                 0\n",
       "dtype: int64"
      ]
     },
     "execution_count": 9,
     "metadata": {},
     "output_type": "execute_result"
    }
   ],
   "source": [
    "#Checking for null values\n",
    "df_listings.isnull().sum()"
   ]
  },
  {
   "cell_type": "code",
   "execution_count": 10,
   "id": "ea205f56",
   "metadata": {},
   "outputs": [],
   "source": [
    "#Handling missing values\n",
    "#Since the missing values in the [bathrooms] and [bedrooms] columns are proportionally small, i will delete the rows with missing values\n",
    "df_listings= df_listings.dropna(subset=['bathrooms','bedrooms'], axis=0)"
   ]
  },
  {
   "cell_type": "code",
   "execution_count": 11,
   "id": "48e67209",
   "metadata": {},
   "outputs": [],
   "source": [
    "#Handling missing values\n",
    "#For the [cleaning_fee] column, there are 1028 missing values. Deleting those values would cause loosing a lot of information so I chose to impute the missing values with the mean\n",
    "df_listings['cleaning_fee']= df_listings['cleaning_fee'].replace(np.NaN, df_listings['cleaning_fee'].mean())\n"
   ]
  },
  {
   "cell_type": "code",
   "execution_count": 12,
   "id": "f2e063d7",
   "metadata": {},
   "outputs": [
    {
     "name": "stdout",
     "output_type": "stream",
     "text": [
      "<class 'pandas.core.frame.DataFrame'>\n",
      "Int64Index: 3784 entries, 0 to 3805\n",
      "Data columns (total 6 columns):\n",
      " #   Column           Non-Null Count  Dtype  \n",
      "---  ------           --------------  -----  \n",
      " 0   accommodates     3784 non-null   int64  \n",
      " 1   bathrooms        3784 non-null   float64\n",
      " 2   bedrooms         3784 non-null   float64\n",
      " 3   cleaning_fee     3784 non-null   float64\n",
      " 4   guests_included  3784 non-null   int64  \n",
      " 5   price            3784 non-null   int64  \n",
      "dtypes: float64(3), int64(3)\n",
      "memory usage: 206.9 KB\n"
     ]
    }
   ],
   "source": [
    "#check the dataframe info to make sure\n",
    "\n",
    "df_listings.info()"
   ]
  },
  {
   "cell_type": "markdown",
   "id": "9f7c842e",
   "metadata": {},
   "source": [
    "so now the dataset has no null values after deleting 22 records and imputing the cleaning fee missing values with the mean"
   ]
  },
  {
   "cell_type": "markdown",
   "id": "96e5cf0e",
   "metadata": {},
   "source": [
    "## Section 4: Modeling\n",
    "\n",
    "After the dataset is cleansed, I'm ready to go with the model building. My aim is to build a model to predect listings prices based on the selected listings features"
   ]
  },
  {
   "cell_type": "code",
   "execution_count": 13,
   "id": "da7ddb20",
   "metadata": {},
   "outputs": [],
   "source": [
    "#splitting df_listings into two datasets \n",
    "X= df_listings[['accommodates','bathrooms','bedrooms','guests_included', 'cleaning_fee']]\n",
    "\n",
    "Y= df_listings['price']"
   ]
  },
  {
   "cell_type": "code",
   "execution_count": 14,
   "id": "d21a16e0",
   "metadata": {},
   "outputs": [
    {
     "name": "stdout",
     "output_type": "stream",
     "text": [
      "(2648, 5)\n",
      "(1136, 5)\n",
      "(2648,)\n",
      "(1136,)\n"
     ]
    }
   ],
   "source": [
    "#splitting the dataset into train and test\n",
    "X_train, X_test, Y_train, Y_test = train_test_split(X, Y, test_size=0.3, random_state=40)\n",
    "print(X_train.shape)\n",
    "print(X_test.shape)\n",
    "print(Y_train.shape)\n",
    "print(Y_test.shape)"
   ]
  },
  {
   "cell_type": "code",
   "execution_count": 15,
   "id": "81c691f0",
   "metadata": {},
   "outputs": [
    {
     "data": {
      "text/plain": [
       "LinearRegression()"
      ]
     },
     "execution_count": 15,
     "metadata": {},
     "output_type": "execute_result"
    }
   ],
   "source": [
    "#Instantiate and fitting the model\n",
    "lm= LinearRegression()\n",
    "lm.fit(X_train, Y_train)"
   ]
  },
  {
   "cell_type": "code",
   "execution_count": 16,
   "id": "c79fa970",
   "metadata": {},
   "outputs": [],
   "source": [
    "#Predict\n",
    "predictions = lm.predict(X_test)"
   ]
  },
  {
   "cell_type": "code",
   "execution_count": 17,
   "id": "569191bc",
   "metadata": {},
   "outputs": [
    {
     "data": {
      "text/html": [
       "<div>\n",
       "<style scoped>\n",
       "    .dataframe tbody tr th:only-of-type {\n",
       "        vertical-align: middle;\n",
       "    }\n",
       "\n",
       "    .dataframe tbody tr th {\n",
       "        vertical-align: top;\n",
       "    }\n",
       "\n",
       "    .dataframe thead th {\n",
       "        text-align: right;\n",
       "    }\n",
       "</style>\n",
       "<table border=\"1\" class=\"dataframe\">\n",
       "  <thead>\n",
       "    <tr style=\"text-align: right;\">\n",
       "      <th></th>\n",
       "      <th>Actual</th>\n",
       "      <th>Predicted</th>\n",
       "      <th>Difference</th>\n",
       "    </tr>\n",
       "  </thead>\n",
       "  <tbody>\n",
       "    <tr>\n",
       "      <th>315</th>\n",
       "      <td>70</td>\n",
       "      <td>97.342828</td>\n",
       "      <td>27.342828</td>\n",
       "    </tr>\n",
       "    <tr>\n",
       "      <th>2035</th>\n",
       "      <td>52</td>\n",
       "      <td>77.367073</td>\n",
       "      <td>25.367073</td>\n",
       "    </tr>\n",
       "    <tr>\n",
       "      <th>789</th>\n",
       "      <td>110</td>\n",
       "      <td>120.481799</td>\n",
       "      <td>10.481799</td>\n",
       "    </tr>\n",
       "    <tr>\n",
       "      <th>1900</th>\n",
       "      <td>56</td>\n",
       "      <td>102.188212</td>\n",
       "      <td>46.188212</td>\n",
       "    </tr>\n",
       "    <tr>\n",
       "      <th>1232</th>\n",
       "      <td>139</td>\n",
       "      <td>113.431363</td>\n",
       "      <td>25.568637</td>\n",
       "    </tr>\n",
       "    <tr>\n",
       "      <th>1315</th>\n",
       "      <td>205</td>\n",
       "      <td>137.872576</td>\n",
       "      <td>67.127424</td>\n",
       "    </tr>\n",
       "    <tr>\n",
       "      <th>1699</th>\n",
       "      <td>150</td>\n",
       "      <td>113.431363</td>\n",
       "      <td>36.568637</td>\n",
       "    </tr>\n",
       "    <tr>\n",
       "      <th>3243</th>\n",
       "      <td>85</td>\n",
       "      <td>97.342828</td>\n",
       "      <td>12.342828</td>\n",
       "    </tr>\n",
       "    <tr>\n",
       "      <th>596</th>\n",
       "      <td>73</td>\n",
       "      <td>127.970086</td>\n",
       "      <td>54.970086</td>\n",
       "    </tr>\n",
       "    <tr>\n",
       "      <th>678</th>\n",
       "      <td>115</td>\n",
       "      <td>120.496412</td>\n",
       "      <td>5.496412</td>\n",
       "    </tr>\n",
       "  </tbody>\n",
       "</table>\n",
       "</div>"
      ],
      "text/plain": [
       "      Actual   Predicted  Difference\n",
       "315       70   97.342828   27.342828\n",
       "2035      52   77.367073   25.367073\n",
       "789      110  120.481799   10.481799\n",
       "1900      56  102.188212   46.188212\n",
       "1232     139  113.431363   25.568637\n",
       "1315     205  137.872576   67.127424\n",
       "1699     150  113.431363   36.568637\n",
       "3243      85   97.342828   12.342828\n",
       "596       73  127.970086   54.970086\n",
       "678      115  120.496412    5.496412"
      ]
     },
     "execution_count": 17,
     "metadata": {},
     "output_type": "execute_result"
    }
   ],
   "source": [
    "#Showing the difference between the actual and predicted value\n",
    "price_predictions= pd.DataFrame({'Actual':Y_test,'Predicted':predictions})\n",
    "price_predictions['Difference']=np.abs(price_predictions.Actual-price_predictions.Predicted)\n",
    "price_predictions.head(10)"
   ]
  },
  {
   "cell_type": "code",
   "execution_count": 19,
   "id": "fd8afbd0",
   "metadata": {},
   "outputs": [
    {
     "data": {
      "text/plain": [
       "'The r-squared score for the model was 0.5592947947993471 on 1136 values.'"
      ]
     },
     "execution_count": 19,
     "metadata": {},
     "output_type": "execute_result"
    }
   ],
   "source": [
    "#Compute a score for your model fit on all the data, and show how many rows you predicted for\n",
    "rsquared_score = r2_score(Y_test, predictions)\n",
    "length_y_test = len(Y_test)\n",
    "\"The r-squared score for the model was {} on {} values.\".format(rsquared_score, length_y_test)"
   ]
  },
  {
   "cell_type": "markdown",
   "id": "de00d174",
   "metadata": {},
   "source": [
    "so that means that approximately half of the observed variation can be explained by the model's inputs."
   ]
  },
  {
   "cell_type": "code",
   "execution_count": 20,
   "id": "931407bf",
   "metadata": {},
   "outputs": [
    {
     "data": {
      "text/html": [
       "<div>\n",
       "<style scoped>\n",
       "    .dataframe tbody tr th:only-of-type {\n",
       "        vertical-align: middle;\n",
       "    }\n",
       "\n",
       "    .dataframe tbody tr th {\n",
       "        vertical-align: top;\n",
       "    }\n",
       "\n",
       "    .dataframe thead th {\n",
       "        text-align: right;\n",
       "    }\n",
       "</style>\n",
       "<table border=\"1\" class=\"dataframe\">\n",
       "  <thead>\n",
       "    <tr style=\"text-align: right;\">\n",
       "      <th></th>\n",
       "      <th>Coefficient</th>\n",
       "    </tr>\n",
       "  </thead>\n",
       "  <tbody>\n",
       "    <tr>\n",
       "      <th>accommodates</th>\n",
       "      <td>11.895820</td>\n",
       "    </tr>\n",
       "    <tr>\n",
       "      <th>bathrooms</th>\n",
       "      <td>19.778120</td>\n",
       "    </tr>\n",
       "    <tr>\n",
       "      <th>bedrooms</th>\n",
       "      <td>16.268436</td>\n",
       "    </tr>\n",
       "    <tr>\n",
       "      <th>guests_included</th>\n",
       "      <td>4.845384</td>\n",
       "    </tr>\n",
       "    <tr>\n",
       "      <th>cleaning_fee</th>\n",
       "      <td>0.483077</td>\n",
       "    </tr>\n",
       "  </tbody>\n",
       "</table>\n",
       "</div>"
      ],
      "text/plain": [
       "                 Coefficient\n",
       "accommodates       11.895820\n",
       "bathrooms          19.778120\n",
       "bedrooms           16.268436\n",
       "guests_included     4.845384\n",
       "cleaning_fee        0.483077"
      ]
     },
     "execution_count": 20,
     "metadata": {},
     "output_type": "execute_result"
    }
   ],
   "source": [
    "#Showing coefficient for the variables to determine feature importance \n",
    "coeff_df= pd.DataFrame(lm.coef_,X.columns,columns=['Coefficient'])\n",
    "coeff_df"
   ]
  },
  {
   "cell_type": "markdown",
   "id": "8fc241c9",
   "metadata": {},
   "source": [
    "The coffecients tell us that for every coffecient[column] increase, we will have one unit increase in the price."
   ]
  },
  {
   "cell_type": "markdown",
   "id": "38cf32b9",
   "metadata": {},
   "source": [
    "## Section 5: Evaluation\n",
    "\n",
    "Answering the questions"
   ]
  },
  {
   "cell_type": "markdown",
   "id": "11bcfa95",
   "metadata": {},
   "source": [
    "<h3> 1- How many listings are in each neighbourhood? <h2/>"
   ]
  },
  {
   "cell_type": "code",
   "execution_count": 230,
   "id": "b16c7858",
   "metadata": {},
   "outputs": [
    {
     "name": "stdout",
     "output_type": "stream",
     "text": [
      "                     neighbourhood_group_cleansed\n",
      "Other neighborhoods                           789\n",
      "Capitol Hill                                  566\n",
      "Downtown                                      528\n",
      "Central Area                                  369\n",
      "Queen Anne                                    295\n",
      "Ballard                                       228\n",
      "West Seattle                                  203\n",
      "Rainier Valley                                158\n",
      "University District                           122\n",
      "Beacon Hill                                   118\n",
      "Cascade                                        89\n",
      "Northgate                                      80\n",
      "Delridge                                       79\n",
      "Lake City                                      66\n",
      "Magnolia                                       61\n",
      "Seward Park                                    44\n",
      "Interbay                                       11\n"
     ]
    }
   ],
   "source": [
    "# so here i'm using the counts formulla to get the number and list of all included neighbours \n",
    "\n",
    "Count_of_Listings= pd.DataFrame(df['neighbourhood_group_cleansed'].value_counts())\n",
    "\n",
    "\n",
    "print(Count_of_Listings)"
   ]
  },
  {
   "cell_type": "code",
   "execution_count": 231,
   "id": "92e3cdcd",
   "metadata": {},
   "outputs": [
    {
     "data": {
      "text/plain": [
       "<seaborn.axisgrid.FacetGrid at 0x2c088cdd160>"
      ]
     },
     "execution_count": 231,
     "metadata": {},
     "output_type": "execute_result"
    },
    {
     "data": {
      "image/png": "[encoded data removed]",
      "text/plain": [
       "<Figure size 360x360 with 1 Axes>"
      ]
     },
     "metadata": {
      "needs_background": "light"
     },
     "output_type": "display_data"
    }
   ],
   "source": [
    "#Visualizing result\n",
    "sns.displot(y='neighbourhood_group_cleansed', bins=5, data=df)"
   ]
  },
  {
   "cell_type": "markdown",
   "id": "4eeece01",
   "metadata": {},
   "source": [
    "from the above insights, we can determine which neighborhood has the highest listings in Seattle, although there are nearly 800 records with no clear neighborhood name but I can tell that Capitol Hill won with the highest listings included in the dataset."
   ]
  },
  {
   "cell_type": "markdown",
   "id": "815678af",
   "metadata": {},
   "source": [
    "<h3> 2- Which hosts are running a business with multiple listings? <h3/>\n",
    "    "
   ]
  },
  {
   "cell_type": "code",
   "execution_count": 232,
   "id": "9890bf48",
   "metadata": {},
   "outputs": [
    {
     "data": {
      "text/html": [
       "<div>\n",
       "<style scoped>\n",
       "    .dataframe tbody tr th:only-of-type {\n",
       "        vertical-align: middle;\n",
       "    }\n",
       "\n",
       "    .dataframe tbody tr th {\n",
       "        vertical-align: top;\n",
       "    }\n",
       "\n",
       "    .dataframe thead th {\n",
       "        text-align: right;\n",
       "    }\n",
       "</style>\n",
       "<table border=\"1\" class=\"dataframe\">\n",
       "  <thead>\n",
       "    <tr style=\"text-align: right;\">\n",
       "      <th></th>\n",
       "      <th>host_name</th>\n",
       "      <th>host_location</th>\n",
       "      <th>host_neighbourhood</th>\n",
       "      <th>host_total_listings_count</th>\n",
       "      <th>host_response_time</th>\n",
       "      <th>host_response_rate</th>\n",
       "    </tr>\n",
       "    <tr>\n",
       "      <th>host_id</th>\n",
       "      <th></th>\n",
       "      <th></th>\n",
       "      <th></th>\n",
       "      <th></th>\n",
       "      <th></th>\n",
       "      <th></th>\n",
       "    </tr>\n",
       "  </thead>\n",
       "  <tbody>\n",
       "    <tr>\n",
       "      <th>956883</th>\n",
       "      <td>Maija</td>\n",
       "      <td>Seattle, Washington, United States</td>\n",
       "      <td>Queen Anne</td>\n",
       "      <td>3.0</td>\n",
       "      <td>within a few hours</td>\n",
       "      <td>96%</td>\n",
       "    </tr>\n",
       "    <tr>\n",
       "      <th>5177328</th>\n",
       "      <td>Andrea</td>\n",
       "      <td>Seattle, Washington, United States</td>\n",
       "      <td>Queen Anne</td>\n",
       "      <td>6.0</td>\n",
       "      <td>within an hour</td>\n",
       "      <td>98%</td>\n",
       "    </tr>\n",
       "    <tr>\n",
       "      <th>16708587</th>\n",
       "      <td>Jill</td>\n",
       "      <td>Seattle, Washington, United States</td>\n",
       "      <td>Queen Anne</td>\n",
       "      <td>2.0</td>\n",
       "      <td>within a few hours</td>\n",
       "      <td>67%</td>\n",
       "    </tr>\n",
       "    <tr>\n",
       "      <th>1452570</th>\n",
       "      <td>Emily</td>\n",
       "      <td>Seattle, Washington, United States</td>\n",
       "      <td>Queen Anne</td>\n",
       "      <td>2.0</td>\n",
       "      <td>within an hour</td>\n",
       "      <td>100%</td>\n",
       "    </tr>\n",
       "    <tr>\n",
       "      <th>4016632</th>\n",
       "      <td>Jean-Marc</td>\n",
       "      <td>Seattle, Washington, United States</td>\n",
       "      <td>Queen Anne</td>\n",
       "      <td>5.0</td>\n",
       "      <td>within an hour</td>\n",
       "      <td>100%</td>\n",
       "    </tr>\n",
       "    <tr>\n",
       "      <th>...</th>\n",
       "      <td>...</td>\n",
       "      <td>...</td>\n",
       "      <td>...</td>\n",
       "      <td>...</td>\n",
       "      <td>...</td>\n",
       "      <td>...</td>\n",
       "    </tr>\n",
       "    <tr>\n",
       "      <th>39845529</th>\n",
       "      <td>Bethany</td>\n",
       "      <td>Seattle, Washington, United States</td>\n",
       "      <td>Fremont</td>\n",
       "      <td>2.0</td>\n",
       "      <td>within a day</td>\n",
       "      <td>100%</td>\n",
       "    </tr>\n",
       "    <tr>\n",
       "      <th>7964921</th>\n",
       "      <td>Charlie &amp; Sarah</td>\n",
       "      <td>Seattle, Washington, United States</td>\n",
       "      <td>Fremont</td>\n",
       "      <td>2.0</td>\n",
       "      <td>within a few hours</td>\n",
       "      <td>100%</td>\n",
       "    </tr>\n",
       "    <tr>\n",
       "      <th>8462864</th>\n",
       "      <td>Josh</td>\n",
       "      <td>US</td>\n",
       "      <td>NaN</td>\n",
       "      <td>2.0</td>\n",
       "      <td>within an hour</td>\n",
       "      <td>93%</td>\n",
       "    </tr>\n",
       "    <tr>\n",
       "      <th>36993883</th>\n",
       "      <td>Kate</td>\n",
       "      <td>Seattle, Washington, United States</td>\n",
       "      <td>Wallingford</td>\n",
       "      <td>4.0</td>\n",
       "      <td>NaN</td>\n",
       "      <td>NaN</td>\n",
       "    </tr>\n",
       "    <tr>\n",
       "      <th>6979871</th>\n",
       "      <td>Beate</td>\n",
       "      <td>Seattle, Washington, United States</td>\n",
       "      <td>Fremont</td>\n",
       "      <td>2.0</td>\n",
       "      <td>within a day</td>\n",
       "      <td>80%</td>\n",
       "    </tr>\n",
       "  </tbody>\n",
       "</table>\n",
       "<p>568 rows × 6 columns</p>\n",
       "</div>"
      ],
      "text/plain": [
       "                host_name                       host_location  \\\n",
       "host_id                                                         \n",
       "956883              Maija  Seattle, Washington, United States   \n",
       "5177328            Andrea  Seattle, Washington, United States   \n",
       "16708587             Jill  Seattle, Washington, United States   \n",
       "1452570             Emily  Seattle, Washington, United States   \n",
       "4016632         Jean-Marc  Seattle, Washington, United States   \n",
       "...                   ...                                 ...   \n",
       "39845529          Bethany  Seattle, Washington, United States   \n",
       "7964921   Charlie & Sarah  Seattle, Washington, United States   \n",
       "8462864              Josh                                  US   \n",
       "36993883             Kate  Seattle, Washington, United States   \n",
       "6979871             Beate  Seattle, Washington, United States   \n",
       "\n",
       "         host_neighbourhood  host_total_listings_count  host_response_time  \\\n",
       "host_id                                                                      \n",
       "956883           Queen Anne                        3.0  within a few hours   \n",
       "5177328          Queen Anne                        6.0      within an hour   \n",
       "16708587         Queen Anne                        2.0  within a few hours   \n",
       "1452570          Queen Anne                        2.0      within an hour   \n",
       "4016632          Queen Anne                        5.0      within an hour   \n",
       "...                     ...                        ...                 ...   \n",
       "39845529            Fremont                        2.0        within a day   \n",
       "7964921             Fremont                        2.0  within a few hours   \n",
       "8462864                 NaN                        2.0      within an hour   \n",
       "36993883        Wallingford                        4.0                 NaN   \n",
       "6979871             Fremont                        2.0        within a day   \n",
       "\n",
       "         host_response_rate  \n",
       "host_id                      \n",
       "956883                  96%  \n",
       "5177328                 98%  \n",
       "16708587                67%  \n",
       "1452570                100%  \n",
       "4016632                100%  \n",
       "...                     ...  \n",
       "39845529               100%  \n",
       "7964921                100%  \n",
       "8462864                 93%  \n",
       "36993883                NaN  \n",
       "6979871                 80%  \n",
       "\n",
       "[568 rows x 6 columns]"
      ]
     },
     "metadata": {},
     "output_type": "display_data"
    }
   ],
   "source": [
    "#To get the results, I have created a query to get the hosts who own more than one listings and then display their other information using a dataframe\n",
    "\n",
    "Hosts=df.query(\"host_total_listings_count > 1\")\n",
    "Hosts_Multiple_Listings= pd.DataFrame(Hosts[['host_id','host_name','host_location', 'host_neighbourhood', 'host_total_listings_count',  'host_response_time', 'host_response_rate']]).drop_duplicates()\n",
    "Hosts_Multiple_Listings.set_index(\"host_id\", inplace =True)\n",
    "display(Hosts_Multiple_Listings)"
   ]
  },
  {
   "cell_type": "code",
   "execution_count": 233,
   "id": "598367f4",
   "metadata": {},
   "outputs": [],
   "source": [
    "#Creating a function to get the top 10 from Hosts_Multiple_Listings dataframe based on a specific column\n",
    "def top_hosts(df, no_of_rows, col):\n",
    "    \n",
    "    '''\n",
    "     Input:\n",
    "     \n",
    "     df - the pandas dataframe the user wants to get the values from\n",
    "     no_of_rows - number of rows (top values) the user wants to get\n",
    "     col - the numeric column the user wants to get the highest values based on\n",
    "     \n",
    "     Output:\n",
    "     \n",
    "     selected_hosts - a dataframe of the highest values based on the column and number of rows the user specified\n",
    "     \n",
    "    '''\n",
    "   \n",
    "    selected_hosts= df.nlargest(no_of_rows, columns= col, keep='first')\n",
    "    return selected_hosts\n",
    "\n",
    "  "
   ]
  },
  {
   "cell_type": "code",
   "execution_count": 234,
   "id": "c230c2c0",
   "metadata": {},
   "outputs": [
    {
     "data": {
      "text/html": [
       "<div>\n",
       "<style scoped>\n",
       "    .dataframe tbody tr th:only-of-type {\n",
       "        vertical-align: middle;\n",
       "    }\n",
       "\n",
       "    .dataframe tbody tr th {\n",
       "        vertical-align: top;\n",
       "    }\n",
       "\n",
       "    .dataframe thead th {\n",
       "        text-align: right;\n",
       "    }\n",
       "</style>\n",
       "<table border=\"1\" class=\"dataframe\">\n",
       "  <thead>\n",
       "    <tr style=\"text-align: right;\">\n",
       "      <th></th>\n",
       "      <th>host_name</th>\n",
       "      <th>host_location</th>\n",
       "      <th>host_neighbourhood</th>\n",
       "      <th>host_total_listings_count</th>\n",
       "      <th>host_response_time</th>\n",
       "      <th>host_response_rate</th>\n",
       "    </tr>\n",
       "    <tr>\n",
       "      <th>host_id</th>\n",
       "      <th></th>\n",
       "      <th></th>\n",
       "      <th></th>\n",
       "      <th></th>\n",
       "      <th></th>\n",
       "      <th></th>\n",
       "    </tr>\n",
       "  </thead>\n",
       "  <tbody>\n",
       "    <tr>\n",
       "      <th>4962900</th>\n",
       "      <td>Jordan</td>\n",
       "      <td>Spokane, Washington, United States</td>\n",
       "      <td>Central Business District</td>\n",
       "      <td>169.0</td>\n",
       "      <td>within an hour</td>\n",
       "      <td>99%</td>\n",
       "    </tr>\n",
       "    <tr>\n",
       "      <th>661691</th>\n",
       "      <td>Katy</td>\n",
       "      <td>Vancouver, Washington, United States</td>\n",
       "      <td>Anaheim</td>\n",
       "      <td>163.0</td>\n",
       "      <td>within a few hours</td>\n",
       "      <td>92%</td>\n",
       "    </tr>\n",
       "    <tr>\n",
       "      <th>103427</th>\n",
       "      <td>Magalie</td>\n",
       "      <td>West Hollywood, California, United States</td>\n",
       "      <td>Anaheim</td>\n",
       "      <td>84.0</td>\n",
       "      <td>within a day</td>\n",
       "      <td>87%</td>\n",
       "    </tr>\n",
       "    <tr>\n",
       "      <th>8534462</th>\n",
       "      <td>Daniela</td>\n",
       "      <td>Seattle, Washington, United States</td>\n",
       "      <td>Belltown</td>\n",
       "      <td>48.0</td>\n",
       "      <td>within an hour</td>\n",
       "      <td>100%</td>\n",
       "    </tr>\n",
       "    <tr>\n",
       "      <th>1243056</th>\n",
       "      <td>Andrew</td>\n",
       "      <td>Seattle, Washington, United States</td>\n",
       "      <td>Capitol Hill</td>\n",
       "      <td>37.0</td>\n",
       "      <td>within an hour</td>\n",
       "      <td>90%</td>\n",
       "    </tr>\n",
       "    <tr>\n",
       "      <th>430709</th>\n",
       "      <td>Sea To Sky Rentals</td>\n",
       "      <td>Seattle, Washington, United States</td>\n",
       "      <td>Belltown</td>\n",
       "      <td>36.0</td>\n",
       "      <td>within a day</td>\n",
       "      <td>88%</td>\n",
       "    </tr>\n",
       "    <tr>\n",
       "      <th>74305</th>\n",
       "      <td>Darik</td>\n",
       "      <td>Kent, Washington, United States</td>\n",
       "      <td>Belltown</td>\n",
       "      <td>34.0</td>\n",
       "      <td>within a few hours</td>\n",
       "      <td>94%</td>\n",
       "    </tr>\n",
       "    <tr>\n",
       "      <th>3074414</th>\n",
       "      <td>Melissa</td>\n",
       "      <td>Seattle, Washington, United States</td>\n",
       "      <td>Ravenna</td>\n",
       "      <td>34.0</td>\n",
       "      <td>within a few hours</td>\n",
       "      <td>80%</td>\n",
       "    </tr>\n",
       "    <tr>\n",
       "      <th>26967583</th>\n",
       "      <td>Dario</td>\n",
       "      <td>Seattle, Washington, United States</td>\n",
       "      <td>University District</td>\n",
       "      <td>21.0</td>\n",
       "      <td>within an hour</td>\n",
       "      <td>98%</td>\n",
       "    </tr>\n",
       "    <tr>\n",
       "      <th>24689607</th>\n",
       "      <td>Garo</td>\n",
       "      <td>Los Angeles, California, United States</td>\n",
       "      <td>Hollywood</td>\n",
       "      <td>19.0</td>\n",
       "      <td>within a day</td>\n",
       "      <td>96%</td>\n",
       "    </tr>\n",
       "  </tbody>\n",
       "</table>\n",
       "</div>"
      ],
      "text/plain": [
       "                   host_name                              host_location  \\\n",
       "host_id                                                                   \n",
       "4962900               Jordan         Spokane, Washington, United States   \n",
       "661691                  Katy       Vancouver, Washington, United States   \n",
       "103427               Magalie  West Hollywood, California, United States   \n",
       "8534462              Daniela         Seattle, Washington, United States   \n",
       "1243056               Andrew         Seattle, Washington, United States   \n",
       "430709    Sea To Sky Rentals         Seattle, Washington, United States   \n",
       "74305                  Darik            Kent, Washington, United States   \n",
       "3074414              Melissa         Seattle, Washington, United States   \n",
       "26967583               Dario         Seattle, Washington, United States   \n",
       "24689607                Garo     Los Angeles, California, United States   \n",
       "\n",
       "                 host_neighbourhood  host_total_listings_count  \\\n",
       "host_id                                                          \n",
       "4962900   Central Business District                      169.0   \n",
       "661691                      Anaheim                      163.0   \n",
       "103427                      Anaheim                       84.0   \n",
       "8534462                    Belltown                       48.0   \n",
       "1243056                Capitol Hill                       37.0   \n",
       "430709                     Belltown                       36.0   \n",
       "74305                      Belltown                       34.0   \n",
       "3074414                     Ravenna                       34.0   \n",
       "26967583        University District                       21.0   \n",
       "24689607                  Hollywood                       19.0   \n",
       "\n",
       "          host_response_time host_response_rate  \n",
       "host_id                                          \n",
       "4962900       within an hour                99%  \n",
       "661691    within a few hours                92%  \n",
       "103427          within a day                87%  \n",
       "8534462       within an hour               100%  \n",
       "1243056       within an hour                90%  \n",
       "430709          within a day                88%  \n",
       "74305     within a few hours                94%  \n",
       "3074414   within a few hours                80%  \n",
       "26967583      within an hour                98%  \n",
       "24689607        within a day                96%  "
      ]
     },
     "execution_count": 234,
     "metadata": {},
     "output_type": "execute_result"
    }
   ],
   "source": [
    "top_hosts(Hosts_Multiple_Listings, 10, ['host_total_listings_count'])"
   ]
  },
  {
   "cell_type": "markdown",
   "id": "af709425",
   "metadata": {},
   "source": [
    "From the above insights, I have got a list of all the hosts whome own multiple listings in Seattle and then the top 10 hosts based on the total owned listings."
   ]
  },
  {
   "cell_type": "markdown",
   "id": "ba1cb5c7",
   "metadata": {},
   "source": [
    "<h3> 3-Average of prices for each neighbourhood <h3/>"
   ]
  },
  {
   "cell_type": "code",
   "execution_count": 235,
   "id": "b4614045",
   "metadata": {},
   "outputs": [
    {
     "data": {
      "text/html": [
       "<div>\n",
       "<style scoped>\n",
       "    .dataframe tbody tr th:only-of-type {\n",
       "        vertical-align: middle;\n",
       "    }\n",
       "\n",
       "    .dataframe tbody tr th {\n",
       "        vertical-align: top;\n",
       "    }\n",
       "\n",
       "    .dataframe thead th {\n",
       "        text-align: right;\n",
       "    }\n",
       "</style>\n",
       "<table border=\"1\" class=\"dataframe\">\n",
       "  <thead>\n",
       "    <tr style=\"text-align: right;\">\n",
       "      <th></th>\n",
       "      <th>price</th>\n",
       "    </tr>\n",
       "    <tr>\n",
       "      <th>neighbourhood_group_cleansed</th>\n",
       "      <th></th>\n",
       "    </tr>\n",
       "  </thead>\n",
       "  <tbody>\n",
       "    <tr>\n",
       "      <th>Delridge</th>\n",
       "      <td>83.278481</td>\n",
       "    </tr>\n",
       "    <tr>\n",
       "      <th>Northgate</th>\n",
       "      <td>88.550000</td>\n",
       "    </tr>\n",
       "    <tr>\n",
       "      <th>Rainier Valley</th>\n",
       "      <td>90.740506</td>\n",
       "    </tr>\n",
       "    <tr>\n",
       "      <th>Lake City</th>\n",
       "      <td>91.484848</td>\n",
       "    </tr>\n",
       "    <tr>\n",
       "      <th>University District</th>\n",
       "      <td>93.639344</td>\n",
       "    </tr>\n",
       "    <tr>\n",
       "      <th>Beacon Hill</th>\n",
       "      <td>94.669492</td>\n",
       "    </tr>\n",
       "    <tr>\n",
       "      <th>Seward Park</th>\n",
       "      <td>108.477273</td>\n",
       "    </tr>\n",
       "    <tr>\n",
       "      <th>Interbay</th>\n",
       "      <td>109.727273</td>\n",
       "    </tr>\n",
       "    <tr>\n",
       "      <th>Other neighborhoods</th>\n",
       "      <td>119.261090</td>\n",
       "    </tr>\n",
       "    <tr>\n",
       "      <th>Ballard</th>\n",
       "      <td>123.368421</td>\n",
       "    </tr>\n",
       "    <tr>\n",
       "      <th>Central Area</th>\n",
       "      <td>128.338753</td>\n",
       "    </tr>\n",
       "    <tr>\n",
       "      <th>Capitol Hill</th>\n",
       "      <td>130.302120</td>\n",
       "    </tr>\n",
       "    <tr>\n",
       "      <th>Cascade</th>\n",
       "      <td>140.101124</td>\n",
       "    </tr>\n",
       "    <tr>\n",
       "      <th>West Seattle</th>\n",
       "      <td>141.359606</td>\n",
       "    </tr>\n",
       "    <tr>\n",
       "      <th>Downtown</th>\n",
       "      <td>153.763258</td>\n",
       "    </tr>\n",
       "    <tr>\n",
       "      <th>Queen Anne</th>\n",
       "      <td>157.223729</td>\n",
       "    </tr>\n",
       "    <tr>\n",
       "      <th>Magnolia</th>\n",
       "      <td>177.672131</td>\n",
       "    </tr>\n",
       "  </tbody>\n",
       "</table>\n",
       "</div>"
      ],
      "text/plain": [
       "                                   price\n",
       "neighbourhood_group_cleansed            \n",
       "Delridge                       83.278481\n",
       "Northgate                      88.550000\n",
       "Rainier Valley                 90.740506\n",
       "Lake City                      91.484848\n",
       "University District            93.639344\n",
       "Beacon Hill                    94.669492\n",
       "Seward Park                   108.477273\n",
       "Interbay                      109.727273\n",
       "Other neighborhoods           119.261090\n",
       "Ballard                       123.368421\n",
       "Central Area                  128.338753\n",
       "Capitol Hill                  130.302120\n",
       "Cascade                       140.101124\n",
       "West Seattle                  141.359606\n",
       "Downtown                      153.763258\n",
       "Queen Anne                    157.223729\n",
       "Magnolia                      177.672131"
      ]
     },
     "metadata": {},
     "output_type": "display_data"
    }
   ],
   "source": [
    "# using the mean formulla to get the average of prices for each neighbourhood\n",
    "\n",
    "Avg_prices_neighbourhood= pd.DataFrame(df.groupby('neighbourhood_group_cleansed')['price'].agg(mean).sort_values())\n",
    "display(Avg_prices_neighbourhood)"
   ]
  },
  {
   "cell_type": "code",
   "execution_count": 240,
   "id": "83ba466e",
   "metadata": {},
   "outputs": [
    {
     "data": {
      "image/png": "[encoded data removed]",
      "text/plain": [
       "<Figure size 1440x288 with 1 Axes>"
      ]
     },
     "metadata": {
      "needs_background": "light"
     },
     "output_type": "display_data"
    }
   ],
   "source": [
    "#Visualizing result\n",
    "Area_Chart= Avg_prices_neighbourhood.plot.bar(figsize=(20,4))\n",
    "plt.show()\n"
   ]
  },
  {
   "cell_type": "markdown",
   "id": "77f25b2d",
   "metadata": {},
   "source": [
    "From the above analysis, I have got the average of daily prices of each neighborhoods. As from the bar chart, Magnolia neghiborhood has the heighest daily price where Delridge has the lowest."
   ]
  },
  {
   "cell_type": "code",
   "execution_count": null,
   "id": "80a7a263",
   "metadata": {},
   "outputs": [],
   "source": []
  }
 ],
 "metadata": {
  "kernelspec": {
   "display_name": "Python 3",
   "language": "python",
   "name": "python3"
  },
  "language_info": {
   "codemirror_mode": {
    "name": "ipython",
    "version": 3
   },
   "file_extension": ".py",
   "mimetype": "text/x-python",
   "name": "python",
   "nbconvert_exporter": "python",
   "pygments_lexer": "ipython3",
   "version": "3.8.8"
  }
 },
 "nbformat": 4,
 "nbformat_minor": 5
}
